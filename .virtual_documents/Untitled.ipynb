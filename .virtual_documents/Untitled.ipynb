import pandas as pd

# ファイルのパス
input_file_path = 'bybit_derivative_ticker_2020-01-01_BTCUSD.csv'
output_file_path = 'processed_funding_oi.csv'

# CSVファイルの読み込み
print("Loading CSV file...")
data = pd.read_csv(input_file_path)

# timestamp列を人間が読みやすい日時形式に変換 (マイクロ秒単位)
print("Converting timestamp to datetime format...")
data['timestamp'] = pd.to_datetime(data['timestamp'], unit='us')  # Unix timestamp in microseconds

# 必要な列を抽出
print("Extracting relevant columns...")
processed_data = data[['timestamp', 'funding_rate', 'open_interest']]

# 結果をCSVとして保存
print("Saving the processed data to CSV...")
processed_data.to_csv(output_file_path, index=False)

print(f"Processed CSV saved to: {output_file_path}")



display(processed_data)


# pip install tardis-client
import asyncio
from tardis_client import TardisClient, Channel
tardis_client = TardisClient(api_key="YOUR_API_KEY")

async def replay():
  # replay method returns Async Generator
  messages = tardis_client.replay(
    exchange="bybit",
    from_date="2020-01-01",
    to_date="2024-11-30",
    filters=[Channel(name="orderBook_200", symbols=["BTCUSD"])]
  )

  # messages as provided by Bybit real-time stream
  async for local_timestamp, message in messages:
    print(message)


asyncio.run(replay())



