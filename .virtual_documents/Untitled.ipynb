import pandas as pd

# ファイルパス
etf_data_path = 'BTC_ETF.csv'  # ETFデータのファイル
ohlcv_data_path = 'btc_usdt_1h_2018_to_now.csv'  # OHLCVデータのファイル
output_path = 'merged_btc_ohlcv_etf.csv'  # 結合後のCSV出力先

# CSVを読み込む
etf_data = pd.read_csv(etf_data_path)
ohlcv_data = pd.read_csv(ohlcv_data_path)

# ETFデータの日付をdatetimeに変換
etf_data['Date'] = pd.to_datetime(etf_data['Date'], errors='coerce')

# OHLCVデータのタイムスタンプをdatetimeに変換
ohlcv_data['timestamp'] = pd.to_datetime(ohlcv_data['timestamp'], errors='coerce')

# OHLCVデータに日付列を追加
ohlcv_data['date'] = ohlcv_data['timestamp'].dt.date

# ETFデータの日付と一致させるために日付型に変換
ohlcv_data['date'] = pd.to_datetime(ohlcv_data['date'])

# 結合を実施（left joinでOHLCVデータを基準にする）
merged_data = pd.merge(
    ohlcv_data,
    etf_data.rename(columns={'Date': 'date'}),  # 'Date'列を'ohlcv_data'の'date'列に合わせる
    how='left',
    on='date'
)

# カラムの順番を調整（元のOHLCVデータ列を先に）
columns_to_keep = list(ohlcv_data.columns) + list(etf_data.columns[1:])  # ETFの時間列は含まない
merged_data = merged_data[columns_to_keep]
merged_data = merged_data.drop(columns=['date'], errors='ignore')

# CSVに保存
merged_data.to_csv(output_path, index=False)



print(f"結合されたデータは {output_path} に保存されました。")



