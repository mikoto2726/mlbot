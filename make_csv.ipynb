{
 "cells": [
  {
   "cell_type": "code",
   "execution_count": 10,
   "id": "2425b962-0893-45a2-b42c-d39bbfe12231",
   "metadata": {
    "execution": {
     "iopub.execute_input": "2024-11-12T05:29:12.714045Z",
     "iopub.status.busy": "2024-11-12T05:29:12.713798Z",
     "iopub.status.idle": "2024-11-12T05:29:12.716435Z",
     "shell.execute_reply": "2024-11-12T05:29:12.716141Z",
     "shell.execute_reply.started": "2024-11-12T05:29:12.714023Z"
    }
   },
   "outputs": [],
   "source": [
    "import ccxt\n",
    "import pandas as pd"
   ]
  },
  {
   "cell_type": "code",
   "execution_count": 11,
   "id": "7a7bc0fd-4759-4ec9-b171-ce46ed702ceb",
   "metadata": {
    "execution": {
     "iopub.execute_input": "2024-11-12T05:29:13.625079Z",
     "iopub.status.busy": "2024-11-12T05:29:13.624831Z",
     "iopub.status.idle": "2024-11-12T05:29:17.530753Z",
     "shell.execute_reply": "2024-11-12T05:29:17.530286Z",
     "shell.execute_reply.started": "2024-11-12T05:29:13.625059Z"
    }
   },
   "outputs": [
    {
     "name": "stdout",
     "output_type": "stream",
     "text": [
      "Data fetching and saving completed.\n"
     ]
    }
   ],
   "source": [
    "# Binanceのインスタンスを作成（レートリミットを有効化）\n",
    "exchange = ccxt.binance({\n",
    "    'enableRateLimit': True,\n",
    "})\n",
    "\n",
    "# BTC/USDTのデータを取得\n",
    "symbol = 'BTC/USDT'\n",
    "timeframe = '1h'  # 15分足のデータ\n",
    "since = exchange.parse8601('2020-01-01T00:00:00Z')  # データの開始日\n",
    "\n",
    "# データを取得する関数（例外処理と進行状況の追加）\n",
    "def fetch_all_ohlcv(symbol, timeframe, since):\n",
    "    all_ohlcv = []\n",
    "    now = exchange.milliseconds()\n",
    "    while since < now:\n",
    "        try:\n",
    "            ohlcv = exchange.fetch_ohlcv(symbol, timeframe, since, limit=1000)\n",
    "            if not ohlcv:\n",
    "                break\n",
    "            since = ohlcv[-1][0] + 1  # タイムスタンプを更新\n",
    "            all_ohlcv.extend(ohlcv)\n",
    "        except Exception as e:\n",
    "            print(f'An error occurred: {e}')\n",
    "            # リトライのために一時停止\n",
    "            time.sleep(5)\n",
    "            continue\n",
    "    return all_ohlcv\n",
    "\n",
    "# データを取得\n",
    "ohlcv = fetch_all_ohlcv(symbol, timeframe, since)\n",
    "data = pd.DataFrame(ohlcv, columns=['timestamp', 'open', 'high', 'low', 'close', 'volume'])\n",
    "\n",
    "# タイムスタンプを変換\n",
    "data['timestamp'] = pd.to_datetime(data['timestamp'], unit='ms')\n",
    "\n",
    "# CSVファイルとして保存\n",
    "data.to_csv('btc_usdt_1h_2018_to_now.csv', index=False)\n",
    "\n",
    "print('Data fetching and saving completed.')"
   ]
  },
  {
   "cell_type": "code",
   "execution_count": 12,
   "id": "14e5ca74-633c-4081-aa99-cf8a7f5d9ba5",
   "metadata": {
    "execution": {
     "iopub.execute_input": "2024-11-12T05:29:18.732707Z",
     "iopub.status.busy": "2024-11-12T05:29:18.732421Z",
     "iopub.status.idle": "2024-11-12T05:29:18.739901Z",
     "shell.execute_reply": "2024-11-12T05:29:18.739561Z",
     "shell.execute_reply.started": "2024-11-12T05:29:18.732685Z"
    }
   },
   "outputs": [
    {
     "data": {
      "text/html": [
       "<div>\n",
       "<style scoped>\n",
       "    .dataframe tbody tr th:only-of-type {\n",
       "        vertical-align: middle;\n",
       "    }\n",
       "\n",
       "    .dataframe tbody tr th {\n",
       "        vertical-align: top;\n",
       "    }\n",
       "\n",
       "    .dataframe thead th {\n",
       "        text-align: right;\n",
       "    }\n",
       "</style>\n",
       "<table border=\"1\" class=\"dataframe\">\n",
       "  <thead>\n",
       "    <tr style=\"text-align: right;\">\n",
       "      <th></th>\n",
       "      <th>open</th>\n",
       "      <th>high</th>\n",
       "      <th>low</th>\n",
       "      <th>close</th>\n",
       "      <th>volume</th>\n",
       "    </tr>\n",
       "    <tr>\n",
       "      <th>timestamp</th>\n",
       "      <th></th>\n",
       "      <th></th>\n",
       "      <th></th>\n",
       "      <th></th>\n",
       "      <th></th>\n",
       "    </tr>\n",
       "  </thead>\n",
       "  <tbody>\n",
       "    <tr>\n",
       "      <th>2020-01-01 00:00:00</th>\n",
       "      <td>7195.24</td>\n",
       "      <td>7196.25</td>\n",
       "      <td>7175.46</td>\n",
       "      <td>7177.02</td>\n",
       "      <td>511.814901</td>\n",
       "    </tr>\n",
       "    <tr>\n",
       "      <th>2020-01-01 01:00:00</th>\n",
       "      <td>7176.47</td>\n",
       "      <td>7230.00</td>\n",
       "      <td>7175.71</td>\n",
       "      <td>7216.27</td>\n",
       "      <td>883.052603</td>\n",
       "    </tr>\n",
       "    <tr>\n",
       "      <th>2020-01-01 02:00:00</th>\n",
       "      <td>7215.52</td>\n",
       "      <td>7244.87</td>\n",
       "      <td>7211.41</td>\n",
       "      <td>7242.85</td>\n",
       "      <td>655.156809</td>\n",
       "    </tr>\n",
       "    <tr>\n",
       "      <th>2020-01-01 03:00:00</th>\n",
       "      <td>7242.66</td>\n",
       "      <td>7245.00</td>\n",
       "      <td>7220.00</td>\n",
       "      <td>7225.01</td>\n",
       "      <td>783.724867</td>\n",
       "    </tr>\n",
       "    <tr>\n",
       "      <th>2020-01-01 04:00:00</th>\n",
       "      <td>7225.00</td>\n",
       "      <td>7230.00</td>\n",
       "      <td>7215.03</td>\n",
       "      <td>7217.27</td>\n",
       "      <td>467.812578</td>\n",
       "    </tr>\n",
       "  </tbody>\n",
       "</table>\n",
       "</div>"
      ],
      "text/plain": [
       "                        open     high      low    close      volume\n",
       "timestamp                                                          \n",
       "2020-01-01 00:00:00  7195.24  7196.25  7175.46  7177.02  511.814901\n",
       "2020-01-01 01:00:00  7176.47  7230.00  7175.71  7216.27  883.052603\n",
       "2020-01-01 02:00:00  7215.52  7244.87  7211.41  7242.85  655.156809\n",
       "2020-01-01 03:00:00  7242.66  7245.00  7220.00  7225.01  783.724867\n",
       "2020-01-01 04:00:00  7225.00  7230.00  7215.03  7217.27  467.812578"
      ]
     },
     "metadata": {},
     "output_type": "display_data"
    }
   ],
   "source": [
    "display(df.head())"
   ]
  },
  {
   "cell_type": "code",
   "execution_count": 13,
   "id": "7f6ed6e9-3add-45c7-9cae-42806242bc36",
   "metadata": {
    "execution": {
     "iopub.execute_input": "2024-11-12T05:29:19.703997Z",
     "iopub.status.busy": "2024-11-12T05:29:19.703496Z",
     "iopub.status.idle": "2024-11-12T05:29:19.708127Z",
     "shell.execute_reply": "2024-11-12T05:29:19.707737Z",
     "shell.execute_reply.started": "2024-11-12T05:29:19.703974Z"
    }
   },
   "outputs": [
    {
     "name": "stdout",
     "output_type": "stream",
     "text": [
      "                        open     high      low    close      volume\n",
      "timestamp                                                          \n",
      "2020-01-01 00:00:00  7195.24  7196.25  7175.46  7177.02  511.814901\n",
      "2020-01-01 01:00:00  7176.47  7230.00  7175.71  7216.27  883.052603\n",
      "2020-01-01 02:00:00  7215.52  7244.87  7211.41  7242.85  655.156809\n",
      "2020-01-01 03:00:00  7242.66  7245.00  7220.00  7225.01  783.724867\n",
      "2020-01-01 04:00:00  7225.00  7230.00  7215.03  7217.27  467.812578\n"
     ]
    }
   ],
   "source": [
    "print(df.head())"
   ]
  },
  {
   "cell_type": "code",
   "execution_count": null,
   "id": "b5b8fc13-e2c6-426f-b3b4-a9e4125ae59b",
   "metadata": {},
   "outputs": [],
   "source": []
  }
 ],
 "metadata": {
  "kernelspec": {
   "display_name": "Python 3 (ipykernel)",
   "language": "python",
   "name": "python3"
  },
  "language_info": {
   "codemirror_mode": {
    "name": "ipython",
    "version": 3
   },
   "file_extension": ".py",
   "mimetype": "text/x-python",
   "name": "python",
   "nbconvert_exporter": "python",
   "pygments_lexer": "ipython3",
   "version": "3.12.5"
  }
 },
 "nbformat": 4,
 "nbformat_minor": 5
}
