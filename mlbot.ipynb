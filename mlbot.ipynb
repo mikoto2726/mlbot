{
 "cells": [
  {
   "cell_type": "code",
   "execution_count": 1301,
   "id": "6f5007e6-9132-436c-b3d6-f6376249d415",
   "metadata": {},
   "outputs": [],
   "source": [
    "# 必要なライブラリのインポート\n",
    "import numpy as np\n",
    "import pandas as pd\n",
    "import lightgbm as lgb\n",
    "import matplotlib.pyplot as plt\n",
    "import seaborn as sns\n",
    "import ccxt\n",
    "from datetime import datetime, timedelta\n",
    "from sklearn.metrics import accuracy_score, classification_report\n",
    "from sklearn.model_selection import GridSearchCV\n",
    "import warnings\n",
    "import os\n",
    "import sweetviz as sv\n",
    "from IPython.display import IFrame\n",
    "import time\n",
    "import requests\n",
    "from sklearn.metrics import confusion_matrix\n",
    "from sklearn.metrics import roc_auc_score\n",
    "from sklearn.metrics import precision_recall_curve\n",
    "from sklearn.model_selection import cross_val_score\n",
    "warnings.filterwarnings('ignore')"
   ]
  },
  {
   "cell_type": "markdown",
   "id": "46cd4e74-bcda-4897-857e-f053a7c4c1aa",
   "metadata": {},
   "source": [
    "# データ取得"
   ]
  },
  {
   "cell_type": "code",
   "execution_count": 1302,
   "id": "63cf3288-cba5-49a9-8f20-4dfa779c3547",
   "metadata": {},
   "outputs": [
    {
     "name": "stdout",
     "output_type": "stream",
     "text": [
      "Data fetching and saving completed.\n"
     ]
    }
   ],
   "source": [
    "# Binanceのインスタンスを作成（レートリミットを有効化）\n",
    "exchange = ccxt.binance({\n",
    "    'enableRateLimit': True,\n",
    "})\n",
    "\n",
    "# BTC/USDTのデータを取得\n",
    "symbol = 'BTC/USDT'\n",
    "timeframe = '1h'  # 15分足のデータ\n",
    "since = exchange.parse8601('2020-01-01T00:00:00Z')  # データの開始日\n",
    "\n",
    "# データを取得する関数（例外処理と進行状況の追加）\n",
    "def fetch_all_ohlcv(symbol, timeframe, since):\n",
    "    all_ohlcv = []\n",
    "    now = exchange.milliseconds()\n",
    "    while since < now:\n",
    "        try:\n",
    "            ohlcv = exchange.fetch_ohlcv(symbol, timeframe, since, limit=1000)\n",
    "            if not ohlcv:\n",
    "                break\n",
    "            since = ohlcv[-1][0] + 1  # タイムスタンプを更新\n",
    "            all_ohlcv.extend(ohlcv)\n",
    "        except Exception as e:\n",
    "            print(f'An error occurred: {e}')\n",
    "            # リトライのために一時停止\n",
    "            time.sleep(5)\n",
    "            continue\n",
    "    return all_ohlcv\n",
    "\n",
    "# データを取得\n",
    "ohlcv = fetch_all_ohlcv(symbol, timeframe, since)\n",
    "data = pd.DataFrame(ohlcv, columns=['timestamp', 'open', 'high', 'low', 'close', 'volume'])\n",
    "\n",
    "# タイムスタンプを変換\n",
    "data['timestamp'] = pd.to_datetime(data['timestamp'], unit='ms')\n",
    "\n",
    "# CSVファイルとして保存\n",
    "data.to_csv('btc_usdt_1h_2018_to_now.csv', index=False)\n",
    "\n",
    "print('Data fetching and saving completed.')"
   ]
  },
  {
   "cell_type": "code",
   "execution_count": 1303,
   "id": "8b9b4899-cb81-49fc-b24a-c49daab312c0",
   "metadata": {},
   "outputs": [],
   "source": [
    "# データの読み込みと文字列として保存されている日時情報を日時型のデータに変換\n",
    "df = pd.read_csv('btc_usdt_1h_2018_to_now.csv')\n",
    "df['timestamp'] = pd.to_datetime(df['timestamp'])"
   ]
  },
  {
   "cell_type": "code",
   "execution_count": 1304,
   "id": "871efd7a-0fe2-4048-9ae6-7d91381f5951",
   "metadata": {},
   "outputs": [],
   "source": [
    "# タイムスタンプでソートとインデックスのリセット\n",
    "df.sort_values('timestamp', inplace=True)#inplaceで新しいdataframeを作成せず元のを変更\n",
    "# 列をインデックス（行ラベル）として設定\n",
    "df.set_index('timestamp', inplace=True)"
   ]
  },
  {
   "cell_type": "code",
   "execution_count": 1305,
   "id": "0f533ddd-8bb5-45f0-b896-6c854cc7b330",
   "metadata": {},
   "outputs": [
    {
     "name": "stderr",
     "output_type": "stream",
     "text": [
      "Done! Use 'show' commands to display/save.   |████████████████████████████████| [100%]   00:00 -> (00:00 left)\n"
     ]
    },
    {
     "data": {
      "text/html": [
       "\n",
       "        <iframe\n",
       "            width=\"1000\"\n",
       "            height=\"600\"\n",
       "            src=\"sweetviz_report.html\"\n",
       "            frameborder=\"0\"\n",
       "            allowfullscreen\n",
       "            \n",
       "        ></iframe>\n",
       "        "
      ],
      "text/plain": [
       "<IPython.lib.display.IFrame at 0x7f60f7009a60>"
      ]
     },
     "execution_count": 1305,
     "metadata": {},
     "output_type": "execute_result"
    }
   ],
   "source": [
    "# Sweetvizのレポート作成\n",
    "report = sv.analyze(df)\n",
    "# レポートを表示（HTMLファイルとして出力し、JupyterLabで表示）\n",
    "#report.show_html('sweetviz_report.html')\n",
    "# JupyterLab上でSweetvizレポートをセル内に表示\n",
    "IFrame(src='sweetviz_report.html', width=1000, height=600)"
   ]
  },
  {
   "cell_type": "code",
   "execution_count": 1306,
   "id": "bc8bac98-e8b3-4201-8425-1768fe35301b",
   "metadata": {},
   "outputs": [],
   "source": [
    "# 特徴量エンジニアリング\n",
    "# 移動平均線の計算\n",
    "df['SMA_10'] = df['close'].rolling(window=10).mean()\n",
    "df['SMA_20'] = df['close'].rolling(window=20).mean()\n",
    "df['SMA_30'] = df['close'].rolling(window=30).mean()\n",
    "df['SMA_100'] = df['close'].rolling(window=100).mean()\n",
    "df['SMA_200'] = df['close'].rolling(window=200).mean()\n",
    "\n",
    "# 指数移動平均線の計算\n",
    "df['EMA_20'] = df['close'].ewm(span=20, adjust=False).mean()\n",
    "df['EMA_200'] = df['close'].ewm(span=200, adjust=False).mean()\n",
    "\n",
    "# RSIの計算\n",
    "def compute_RSI(data, time_window):\n",
    "    diff = data.diff(1) #1つ前の行との違い\n",
    "    up_chg = diff.clip(lower=0) #差分が負の物は0に変換\n",
    "    down_chg = -diff.clip(upper=0) #差分が0より大きいものを全て0に置き換える\n",
    "    up_chg_avg = up_chg.ewm(com=time_window - 1, min_periods=time_window).mean() #価格が上昇した指数移動平均\n",
    "    down_chg_avg = down_chg.ewm(com=time_window - 1, min_periods=time_window).mean()\n",
    "    rs = up_chg_avg / down_chg_avg #上昇した強さと下落した強さの比率\n",
    "    rsi = 100 - 100 / (1 + rs) \n",
    "    return rsi\n",
    "\n",
    "df['RSI_14'] = compute_RSI(df['close'], 14)\n",
    "\n",
    "# MACDの計算\n",
    "df['EMA_12'] = df['close'].ewm(span=12, adjust=False).mean()\n",
    "df['EMA_26'] = df['close'].ewm(span=26, adjust=False).mean()\n",
    "df['MACD'] = df['EMA_12'] - df['EMA_26']\n",
    "df['Signal_Line'] = df['MACD'].ewm(span=9, adjust=False).mean()\n",
    "\n",
    "# ボリンジャーバンドの計算\n",
    "df['STD_20'] = df['close'].rolling(window=20).std() #stdは標準偏差(データのばらつき度合い)を計算\n",
    "df['Upper_Band'] = df['SMA_20'] + (df['STD_20'] * 2)\n",
    "df['Lower_Band'] = df['SMA_20'] - (df['STD_20'] * 2)\n",
    "\n",
    "# 遅延特徴量の作成\n",
    "for lag in range(1, 6): #shift(lag) は、df['close'] のデータを lag 分だけ下にシフト\n",
    "    df[f'lag_{lag}'] = df['close'].shift(lag) #lag_1からlag_5 までの5つの遅延列が作成\n",
    "\n",
    "# 時間に関する特徴量\n",
    "df['hour'] = df.index.hour\n",
    "df['day_of_week'] = df.index.dayofweek #曜日は0から6の値で表される\n",
    "\n",
    "#ATR（平均真の範囲、Average True Range）\n",
    "df['TR'] = df['high'] - df['low']\n",
    "df['ATR_14'] = df['TR'].rolling(window=14).mean()\n",
    "\n",
    "#ADX（平均方向性指数、Average Directional Index）\n",
    "def compute_ADX(data, period=14):\n",
    "    high = data['high']\n",
    "    low = data['low']\n",
    "    close = data['close']\n",
    "    \n",
    "    plus_dm = high.diff()\n",
    "    minus_dm = low.diff()\n",
    "\n",
    "    plus_dm[plus_dm < 0] = 0\n",
    "    minus_dm[minus_dm > 0] = 0\n",
    "\n",
    "    tr = high.combine(low, max) - low.combine(close.shift(), min)\n",
    "\n",
    "    atr = tr.rolling(window=period).mean()\n",
    "\n",
    "    plus_di = 100 * (plus_dm.ewm(alpha=1/period).mean() / atr)\n",
    "    minus_di = abs(100 * (minus_dm.ewm(alpha=1/period).mean() / atr))\n",
    "    dx = (abs(plus_di - minus_di) / (plus_di + minus_di)) * 100\n",
    "    adx = dx.rolling(window=period).mean()\n",
    "    \n",
    "    return adx\n",
    "\n",
    "df['ADX_14'] = compute_ADX(df)\n",
    "\n",
    "#CCI（商品チャンネル指数、Commodity Channel Index）\n",
    "df['TP'] = (df['high'] + df['low'] + df['close']) / 3\n",
    "df['CCI_14'] = (df['TP'] - df['TP'].rolling(window=14).mean()) / (0.015 * df['TP'].rolling(window=14).std())\n",
    "\n",
    "#OBV（オンバランスボリューム、On-Balance Volume）\n",
    "df['OBV'] = (np.sign(df['close'].diff()) * df['volume']).fillna(0).cumsum()\n",
    "\n",
    "#Stochastic Oscillator（ストキャスティクス）\n",
    "df['L14'] = df['low'].rolling(window=14).min()\n",
    "df['H14'] = df['high'].rolling(window=14).max()\n",
    "df['%K'] = 100 * (df['close'] - df['L14']) / (df['H14'] - df['L14'])\n",
    "df['%D'] = df['%K'].rolling(window=3).mean()\n",
    "\n"
   ]
  },
  {
   "cell_type": "code",
   "execution_count": 1307,
   "id": "564f7e04-c41d-4483-a977-b284446874fd",
   "metadata": {},
   "outputs": [],
   "source": [
    "# 目標変数の作成\n",
    "df['return'] = df['close'].pct_change().shift(-1) #前の行とのパーセンテージの変化\n",
    "df['target'] = (df['return'] > 0).astype(int) #価格が上昇したらTrue"
   ]
  },
  {
   "cell_type": "code",
   "execution_count": 1308,
   "id": "bda1d824-a30b-48ed-9cc9-31a844fe68f4",
   "metadata": {},
   "outputs": [],
   "source": [
    "# 欠損値の削除\n",
    "df.dropna(inplace=True)"
   ]
  },
  {
   "cell_type": "code",
   "execution_count": 1309,
   "id": "62da76b1-ec0f-47d8-a4b3-92a7561f1637",
   "metadata": {},
   "outputs": [],
   "source": [
    "# 特徴量と目標変数の定義\n",
    "features = ['open', 'high', 'low', 'close', 'volume', 'SMA_10', 'SMA_30','SMA_100', 'SMA_200',\n",
    "            'EMA_20',  'EMA_200', 'RSI_14', 'MACD', 'Signal_Line',\n",
    "            'Upper_Band', 'Lower_Band', 'ATR_14', 'ADX_14', 'CCI_14', 'OBV', '%K', '%D', 'hour', 'day_of_week'] + [f'lag_{lag}' for lag in range(1,6)]\n",
    "\n",
    "X = df[features]\n",
    "y = df['target'] #価格が上昇すれば1下落すれば0"
   ]
  },
  {
   "cell_type": "code",
   "execution_count": 1310,
   "id": "963cc0f4-56ae-41c7-aaad-0a07a5521c11",
   "metadata": {},
   "outputs": [],
   "source": [
    "# データの分割（時間ベースでの分割）\n",
    "split_date = '2024-10-24'\n",
    "X_train = X[X.index < split_date]\n",
    "X_test = X[X.index >= split_date]\n",
    "y_train = y[y.index < split_date]\n",
    "y_test = y[y.index >= split_date]"
   ]
  },
  {
   "cell_type": "code",
   "execution_count": 1311,
   "id": "f4e98f9a-b02a-48cf-b3de-7b15daf9a3dc",
   "metadata": {},
   "outputs": [
    {
     "name": "stdout",
     "output_type": "stream",
     "text": [
      "Starting training...\n",
      "Training until validation scores don't improve for 50 rounds\n",
      "Early stopping, best iteration is:\n",
      "[28]\ttraining's binary_logloss: 0.672428\tvalid_1's binary_logloss: 0.676018\n",
      "Making predictions...\n"
     ]
    }
   ],
   "source": [
    "# LightGBM用のデータセットを作成\n",
    "lgb_train = lgb.Dataset(X_train, y_train)\n",
    "lgb_eval = lgb.Dataset(X_test, y_test, reference=lgb_train)\n",
    "\n",
    "# パラメータの設定\n",
    "params = {\n",
    "    'objective': 'binary',\n",
    "    'metric': 'binary_logloss',\n",
    "    'num_iterations' : 10000,\n",
    "    'verbosity': -1,\n",
    "}\n",
    "\n",
    "# モデルの訓練\n",
    "print('Starting training...')\n",
    "gbm = lgb.train(params,\n",
    "                lgb_train,\n",
    "                valid_sets=[lgb_train, lgb_eval],\n",
    "                num_boost_round=1000,\n",
    "                callbacks=[lgb.early_stopping(stopping_rounds=50)])\n",
    "\n",
    "# 予測の実行\n",
    "print('Making predictions...')\n",
    "y_pred_prob = gbm.predict(X_test, num_iteration=gbm.best_iteration)\n",
    "y_pred = (y_pred_prob > 0.5).astype(int)"
   ]
  },
  {
   "cell_type": "code",
   "execution_count": 1312,
   "id": "b65d8ef9-e16e-4e53-a775-12c914b47a84",
   "metadata": {},
   "outputs": [
    {
     "name": "stdout",
     "output_type": "stream",
     "text": [
      "Accuracy: 0.5818181818181818\n",
      "Classification Report:\n",
      "              precision    recall  f1-score   support\n",
      "\n",
      "           0       0.55      0.48      0.51        25\n",
      "           1       0.61      0.67      0.63        30\n",
      "\n",
      "    accuracy                           0.58        55\n",
      "   macro avg       0.58      0.57      0.57        55\n",
      "weighted avg       0.58      0.58      0.58        55\n",
      "\n"
     ]
    }
   ],
   "source": [
    "# モデルの評価\n",
    "accuracy = accuracy_score(y_test, y_pred)\n",
    "print('Accuracy:', accuracy)\n",
    "print('Classification Report:')\n",
    "print(classification_report(y_test, y_pred))"
   ]
  },
  {
   "cell_type": "code",
   "execution_count": 1313,
   "id": "9eb2581e-db5e-4bf9-ab75-60931e512acc",
   "metadata": {},
   "outputs": [
    {
     "name": "stdout",
     "output_type": "stream",
     "text": [
      "ROC AUC Score: 0.5966666666666667\n"
     ]
    }
   ],
   "source": [
    "auc = roc_auc_score(y_test, y_pred_prob)\n",
    "print('ROC AUC Score:', auc)"
   ]
  },
  {
   "cell_type": "code",
   "execution_count": 1314,
   "id": "958c21cd-bb03-46d7-b0ce-1c6f7f1c643a",
   "metadata": {},
   "outputs": [
    {
     "data": {
      "image/png": "[encoded data removed]",
      "text/plain": [
       "<Figure size 640x480 with 2 Axes>"
      ]
     },
     "metadata": {},
     "output_type": "display_data"
    }
   ],
   "source": [
    "cm = confusion_matrix(y_test, y_pred)\n",
    "sns.heatmap(cm, annot=True, fmt='d', cmap='Blues')\n",
    "plt.xlabel('Predicted')\n",
    "plt.ylabel('True')\n",
    "plt.show()"
   ]
  },
  {
   "cell_type": "code",
   "execution_count": 1315,
   "id": "0374e6e1-dc48-47ec-8358-a74fbb6f06b5",
   "metadata": {},
   "outputs": [
    {
     "data": {
      "image/png": "[encoded data removed]",
      "text/plain": [
       "<Figure size 640x480 with 1 Axes>"
      ]
     },
     "metadata": {},
     "output_type": "display_data"
    }
   ],
   "source": [
    "precision, recall, thresholds = precision_recall_curve(y_test, y_pred_prob)\n",
    "plt.plot(recall, precision)\n",
    "plt.xlabel('Recall')\n",
    "plt.ylabel('Precision')\n",
    "plt.title('Precision-Recall curve')\n",
    "plt.show()"
   ]
  },
  {
   "cell_type": "code",
   "execution_count": 1316,
   "id": "e2cbc2ae-024b-4ce0-be8d-1d7650480c09",
   "metadata": {},
   "outputs": [
    {
     "name": "stdout",
     "output_type": "stream",
     "text": [
      "Cross-validated accuracy: 0.5155025688141543\n"
     ]
    }
   ],
   "source": [
    "lgb_model = lgb.LGBMClassifier(objective='binary', metric='binary_logloss', verbosity=-1)\n",
    "scores = cross_val_score(lgb_model, X_train, y_train, cv=5, scoring='accuracy')\n",
    "print(\"Cross-validated accuracy:\", scores.mean())"
   ]
  },
  {
   "cell_type": "code",
   "execution_count": 1317,
   "id": "04714047-9ab8-4142-a924-9fd5df1eba57",
   "metadata": {},
   "outputs": [
    {
     "name": "stdout",
     "output_type": "stream",
     "text": [
      "Max Drawdown: -0.00024408991377211642\n",
      "Average Drawdown: -0.00016329591363245315\n",
      "Annual Return: -0.0013790021851823875\n",
      "Final Capital: 999.7960029875754\n",
      "Sharpe Ratio: -19.03423046647984\n"
     ]
    },
    {
     "data": {
      "image/png": "[encoded data removed]",
      "text/plain": [
       "<Figure size 1200x1200 with 2 Axes>"
      ]
     },
     "metadata": {},
     "output_type": "display_data"
    }
   ],
   "source": [
    "# 初期設定\n",
    "initial_capital = 1000\n",
    "capital = initial_capital\n",
    "capital_history = []\n",
    "positions = []\n",
    "buy_signals = []\n",
    "sell_signals = []\n",
    "\n",
    "# パラメータ設定\n",
    "leverage = 10  # レバレッジ設定\n",
    "risk_factor = 1  # リスク管理用の資本割合（0.05 = 5%）\n",
    "fee_rate = 0.00055  # 取引手数料率\n",
    "slippage = 0.00005  # スリッページ率\n",
    "min_confidence = 0.5  # 取引実行の確信度閾値\n",
    "\n",
    "\n",
    "\n",
    "# 短期・長期移動平均線の計算（トレンドフィルタ用）\n",
    "short_ma = df['close'].rolling(window=50).mean()\n",
    "long_ma = df['close'].rolling(window=200).mean()\n",
    "\n",
    "# テスト期間の日付リスト\n",
    "test_dates = X_test.index\n",
    "\n",
    "for i in range(len(test_dates) - 1):\n",
    "    date = test_dates[i]\n",
    "    next_date = test_dates[i + 1]\n",
    "    \n",
    "    # モデルの予測と確信度\n",
    "    prediction = y_pred[i]\n",
    "    confidence = y_pred_prob[i]\n",
    "    \n",
    "    # 価格情報の取得\n",
    "    close_price = df.loc[date, 'close']\n",
    "    next_close_price = df.loc[next_date, 'close']\n",
    "    \n",
    "    # ポジションの決定（トレンドフィルタを使用）\n",
    "    if prediction == 1 and confidence >= min_confidence and short_ma[date] > long_ma[date]:\n",
    "        position = 1  # ロング\n",
    "        buy_signals.append((next_date, next_close_price))\n",
    "    elif prediction == 0 and confidence <= (1 - min_confidence) and short_ma[date] < long_ma[date]:\n",
    "        position = -1  # ショート\n",
    "        sell_signals.append((next_date, next_close_price))\n",
    "    else:\n",
    "        position = 0  # 中立\n",
    "\n",
    "    # リターンの計算（手数料とスリッページを考慮）\n",
    "    ret = ((next_close_price - close_price) / close_price * position * leverage)\n",
    "    if position != 0:  # ポジションがある場合のみ取引手数料とスリッページを考慮\n",
    "        ret -= (fee_rate + slippage) * leverage\n",
    "\n",
    "\n",
    "    # 資本の更新\n",
    "    capital += ret\n",
    "    capital_history.append(capital)\n",
    "    positions.append(position)\n",
    "\n",
    "# バックテスト結果のデータフレーム作成\n",
    "backtest_results = pd.DataFrame(index=test_dates[:-1])\n",
    "backtest_results['Capital'] = capital_history\n",
    "backtest_results['Position'] = positions\n",
    "\n",
    "# リターンの計算\n",
    "backtest_results['Return'] = backtest_results['Capital'].pct_change().fillna(0)\n",
    "\n",
    "# 最大ドローダウンの計算\n",
    "roll_max = backtest_results['Capital'].cummax()\n",
    "daily_drawdown = backtest_results['Capital'] / roll_max - 1.0\n",
    "max_drawdown = daily_drawdown.min()\n",
    "print('Max Drawdown:', max_drawdown)\n",
    "\n",
    "# 平均ドローダウンの計算\n",
    "avg_drawdown = daily_drawdown.mean()\n",
    "print('Average Drawdown:', avg_drawdown)\n",
    "\n",
    "# 年間リターンの計算\n",
    "annual_return = (backtest_results['Capital'].iloc[-1] / initial_capital) ** (365.25 / len(backtest_results)) - 1\n",
    "print('Annual Return:', annual_return)\n",
    "\n",
    "# シャープレシオの計算（リスクフリーレートは0と仮定）\n",
    "sharpe_ratio = (backtest_results['Return'].mean() / backtest_results['Return'].std()) * np.sqrt(365 * 24)\n",
    "print('Final Capital:', capital)\n",
    "print('Sharpe Ratio:', sharpe_ratio)\n",
    "\n",
    "# 資産推移と売買のプロット\n",
    "plt.figure(figsize=(12, 12))\n",
    "\n",
    "# 1つ目のグラフ: 資産推移のプロット\n",
    "plt.subplot(2, 1, 1)\n",
    "plt.plot(backtest_results.index, backtest_results['Capital'], label='Capital Over Time')\n",
    "plt.title('Capital Over Time')\n",
    "plt.xlabel('Date')\n",
    "plt.ylabel('Capital')\n",
    "plt.legend()\n",
    "\n",
    "# 2つ目のグラフ: BTC価格と売買シグナルのプロット\n",
    "plt.subplot(2, 1, 2)\n",
    "plt.plot(df.loc[test_dates[:-1], 'close'], label='BTC Price', color='blue')\n",
    "\n",
    "# 買いのシグナル（緑の丸）\n",
    "if buy_signals:\n",
    "    buy_dates, buy_prices = zip(*buy_signals)\n",
    "    plt.scatter(buy_dates, buy_prices, color='green', label='Buy Signal', marker='o')\n",
    "\n",
    "# 売りのシグナル（赤の丸）\n",
    "if sell_signals:\n",
    "    sell_dates, sell_prices = zip(*sell_signals)\n",
    "    plt.scatter(sell_dates, sell_prices, color='red', label='Sell Signal', marker='o')\n",
    "\n",
    "plt.title('BTC Price with Buy/Sell Signals')\n",
    "plt.xlabel('Date')\n",
    "plt.ylabel('BTC Price')\n",
    "plt.legend()\n",
    "\n",
    "plt.tight_layout()\n",
    "plt.show()\n"
   ]
  },
  {
   "cell_type": "code",
   "execution_count": 1318,
   "id": "62d5eded-dc63-4293-bb79-a890b38b4d30",
   "metadata": {},
   "outputs": [
    {
     "name": "stdout",
     "output_type": "stream",
     "text": [
      "Return: -0.011664958589048268\n"
     ]
    }
   ],
   "source": [
    "# リターン計算やポジションサイズの確認\n",
    "print(\"Return:\", ret)"
   ]
  },
  {
   "cell_type": "code",
   "execution_count": 1319,
   "id": "be30278a-84b8-440a-bafb-870009576514",
   "metadata": {},
   "outputs": [
    {
     "data": {
      "image/png": "[encoded data removed]",
      "text/plain": [
       "<Figure size 1200x600 with 1 Axes>"
      ]
     },
     "metadata": {},
     "output_type": "display_data"
    }
   ],
   "source": [
    "# リターン分布のプロット\n",
    "plt.figure(figsize=(12,6))\n",
    "sns.histplot(backtest_results['Return'], bins=50, kde=True)\n",
    "plt.title('Returns Distribution')\n",
    "plt.show()"
   ]
  },
  {
   "cell_type": "code",
   "execution_count": 1320,
   "id": "53b5296e-c901-41a4-864a-a80def0acf27",
   "metadata": {},
   "outputs": [
    {
     "data": {
      "text/plain": [
       "timestamp\n",
       "2024-10-24 00:00:00    0.000000e+00\n",
       "2024-10-24 01:00:00   -3.446157e-05\n",
       "2024-10-24 02:00:00    3.053642e-05\n",
       "2024-10-24 03:00:00   -3.114790e-05\n",
       "2024-10-24 04:00:00   -3.300529e-06\n",
       "2024-10-24 05:00:00    0.000000e+00\n",
       "2024-10-24 06:00:00    0.000000e+00\n",
       "2024-10-24 07:00:00    3.425659e-05\n",
       "2024-10-24 08:00:00   -9.459702e-06\n",
       "2024-10-24 09:00:00    0.000000e+00\n",
       "2024-10-24 10:00:00   -4.868634e-05\n",
       "2024-10-24 11:00:00   -4.044580e-05\n",
       "2024-10-24 12:00:00   -6.350728e-05\n",
       "2024-10-24 13:00:00    1.163198e-05\n",
       "2024-10-24 14:00:00    6.547681e-06\n",
       "2024-10-24 15:00:00    1.277237e-05\n",
       "2024-10-24 16:00:00    0.000000e+00\n",
       "2024-10-24 17:00:00   -3.239713e-05\n",
       "2024-10-24 18:00:00   -7.644868e-05\n",
       "2024-10-24 19:00:00    1.066034e-05\n",
       "2024-10-24 20:00:00    0.000000e+00\n",
       "2024-10-24 21:00:00    0.000000e+00\n",
       "2024-10-24 22:00:00    0.000000e+00\n",
       "2024-10-24 23:00:00    2.465270e-05\n",
       "2024-10-25 00:00:00    0.000000e+00\n",
       "2024-10-25 01:00:00    0.000000e+00\n",
       "2024-10-25 02:00:00    0.000000e+00\n",
       "2024-10-25 03:00:00    3.282522e-05\n",
       "2024-10-25 04:00:00    0.000000e+00\n",
       "2024-10-25 05:00:00    0.000000e+00\n",
       "2024-10-25 06:00:00    0.000000e+00\n",
       "2024-10-25 07:00:00    0.000000e+00\n",
       "2024-10-25 08:00:00   -3.242899e-05\n",
       "2024-10-25 09:00:00    0.000000e+00\n",
       "2024-10-25 10:00:00    0.000000e+00\n",
       "2024-10-25 11:00:00    4.444705e-07\n",
       "2024-10-25 12:00:00    0.000000e+00\n",
       "2024-10-25 13:00:00   -2.680053e-06\n",
       "2024-10-25 14:00:00    0.000000e+00\n",
       "2024-10-25 15:00:00    0.000000e+00\n",
       "2024-10-25 16:00:00    0.000000e+00\n",
       "2024-10-25 17:00:00    0.000000e+00\n",
       "2024-10-25 18:00:00    0.000000e+00\n",
       "2024-10-25 19:00:00    0.000000e+00\n",
       "2024-10-25 20:00:00    0.000000e+00\n",
       "2024-10-25 21:00:00    0.000000e+00\n",
       "2024-10-25 22:00:00    0.000000e+00\n",
       "2024-10-25 23:00:00    0.000000e+00\n",
       "2024-10-26 00:00:00    0.000000e+00\n",
       "2024-10-26 01:00:00    0.000000e+00\n",
       "2024-10-26 02:00:00    0.000000e+00\n",
       "2024-10-26 03:00:00    0.000000e+00\n",
       "2024-10-26 04:00:00    0.000000e+00\n",
       "2024-10-26 05:00:00   -1.166720e-05\n",
       "Name: Return, dtype: float64"
      ]
     },
     "execution_count": 1320,
     "metadata": {},
     "output_type": "execute_result"
    }
   ],
   "source": [
    "backtest_results['Return']"
   ]
  },
  {
   "cell_type": "code",
   "execution_count": 1321,
   "id": "c7a91180-b56f-41ec-b371-784c17302c19",
   "metadata": {},
   "outputs": [
    {
     "data": {
      "text/plain": [
       "<lightgbm.basic.Booster at 0x7f613b858560>"
      ]
     },
     "execution_count": 1321,
     "metadata": {},
     "output_type": "execute_result"
    }
   ],
   "source": [
    "# モデルの保存\n",
    "gbm.save_model('lightgbm_btc_model.txt')"
   ]
  },
  {
   "cell_type": "code",
   "execution_count": null,
   "id": "b5b3cc21-3548-46e1-a715-5bbf4e30f113",
   "metadata": {},
   "outputs": [],
   "source": [
    "# モデル改良のための次のステップとして、ハイパーパラメータのチューニングを行います\n",
    "# グリッドサーチによるハイパーパラメータチューニング\n",
    "param_grid = {\n",
    "    'num_leaves': [20, 31, 50],  # 葉の数を広げてより複雑なモデルを試す\n",
    "    'learning_rate': [0.1, 0.05, 0.01],  # より小さい学習率も追加\n",
    "    'max_depth': [5, 10, 15],  # モデルの深さを広げ、過学習を避ける\n",
    "    'min_data_in_leaf': [20, 50],  # リーフに必要な最小データを設定し、過学習を防ぐ\n",
    "    'feature_fraction': [0.7, 0.9],  # サブサンプルでの特徴量選択率\n",
    "    'bagging_fraction': [0.8, 1.0],  # サブサンプルでのデータ選択率\n",
    "    'bagging_freq': [1, 5]  # サブサンプルの頻度\n",
    "}\n",
    "\n",
    "# モデルのインスタンス化\n",
    "gbm_cv = lgb.LGBMClassifier(objective='binary', metric='binary_logloss', verbose=-1)\n",
    "# グリッドサーチの実行\n",
    "grid = GridSearchCV(gbm_cv, param_grid, cv=3)\n",
    "grid.fit(X_train, y_train)\n",
    "\n",
    "print('Best parameters found by grid search are:', grid.best_params_)"
   ]
  },
  {
   "cell_type": "code",
   "execution_count": null,
   "id": "38f0f89c-bebc-43fe-bd24-3ce5b8c07441",
   "metadata": {},
   "outputs": [],
   "source": [
    "# 最適なパラメータを取得\n",
    "best_params = grid.best_params_\n",
    "train_params = {**params, **best_params}\n",
    "\n",
    "# モデルの訓練\n",
    "print('Starting optimized training...')\n",
    "gbm_optimized = lgb.train(train_params,\n",
    "                          lgb_train,\n",
    "                          valid_sets=[lgb_train, lgb_eval],\n",
    "                          num_boost_round=1000,\n",
    "                          callbacks=[lgb.early_stopping(stopping_rounds=100)])\n",
    "\n",
    "# 予測の実行\n",
    "print('Making predictions...')\n",
    "y_pred_prob = gbm_optimized.predict(X_test, num_iteration=gbm_optimized.best_iteration)\n",
    "y_pred = (y_pred_prob > 0.5).astype(int)\n"
   ]
  },
  {
   "cell_type": "code",
   "execution_count": null,
   "id": "5e6acbd7-0f4c-4532-9322-76e35bedc7ec",
   "metadata": {},
   "outputs": [],
   "source": [
    "# モデルの評価\n",
    "tune_accuracy = accuracy_score(y_test, y_pred)\n",
    "print('Accuracy:', tune_accuracy)\n",
    "print('Classification Report:')\n",
    "print(classification_report(y_test, y_pred))"
   ]
  },
  {
   "cell_type": "code",
   "execution_count": null,
   "id": "be20c164-2b28-4121-8a19-fffa2fb5cf2d",
   "metadata": {},
   "outputs": [],
   "source": [
    "auc = roc_auc_score(y_test, y_pred_prob)\n",
    "print('ROC AUC Score:', auc)"
   ]
  },
  {
   "cell_type": "code",
   "execution_count": null,
   "id": "f94b98ad-d40d-40bb-b370-a67345524d31",
   "metadata": {},
   "outputs": [],
   "source": [
    "cm = confusion_matrix(y_test, y_pred)\n",
    "sns.heatmap(cm, annot=True, fmt='d', cmap='Blues')\n",
    "plt.xlabel('Predicted')\n",
    "plt.ylabel('True')\n",
    "plt.show()"
   ]
  },
  {
   "cell_type": "code",
   "execution_count": null,
   "id": "5c46b9d6-4739-4dc6-a7c4-daedbed0808c",
   "metadata": {},
   "outputs": [],
   "source": [
    "precision, recall, thresholds = precision_recall_curve(y_test, y_pred_prob)\n",
    "plt.plot(recall, precision)\n",
    "plt.xlabel('Recall')\n",
    "plt.ylabel('Precision')\n",
    "plt.title('Precision-Recall curve')\n",
    "plt.show()"
   ]
  },
  {
   "cell_type": "code",
   "execution_count": null,
   "id": "176bde5a-b3a1-4dd2-853d-aa02974e35bc",
   "metadata": {},
   "outputs": [],
   "source": [
    "lgb_model = lgb.LGBMClassifier(objective='binary', metric='binary_logloss', verbosity=-1)\n",
    "scores = cross_val_score(lgb_model, X_train, y_train, cv=5, scoring='accuracy')\n",
    "print(\"Cross-validated accuracy:\", scores.mean())"
   ]
  },
  {
   "cell_type": "code",
   "execution_count": null,
   "id": "42b25f52-dbb5-453e-9f05-25d6947e7f74",
   "metadata": {},
   "outputs": [],
   "source": [
    "# 初期設定\n",
    "initial_tune_capital = 1000\n",
    "tune_capital = initial_tune_capital\n",
    "tune_capital_history = []\n",
    "tune_positions = []\n",
    "tune_buy_signals = []\n",
    "tune_sell_signals = []\n",
    "\n",
    "tune_leverage = 10 # レバレッジ設定\n",
    "tune_risk_factor = 5  # リスク管理用の資本割合\n",
    "tune_fee_rate = 0.00055  # 仮の取引手数料率\n",
    "tune_slippage = 0.00005  # スリッページ率\n",
    "tune_min_confidence = 0.5  # 取引実行の確信度閾値\n",
    "tune_stop_loss_rate = 5  # ストップロス\n",
    "tune_take_profit_rate = 9  # 利益確定の閾値\n",
    "\n",
    "# ATRの計算\n",
    "atr_period = 14\n",
    "df['TR'] = df['high'] - df['low']\n",
    "df['ATR'] = df['TR'].rolling(window=atr_period).mean()\n",
    "\n",
    "# テスト期間の日付リスト\n",
    "tune_test_dates = X_test.index\n",
    "\n",
    "for i in range(len(tune_test_dates) - 1):\n",
    "    date = tune_test_dates[i]\n",
    "    next_date = tune_test_dates[i + 1]\n",
    "    \n",
    "    # モデルの予測と確信度\n",
    "    tune_prediction = y_pred[i]\n",
    "    tune_confidence = y_pred_prob[i]\n",
    "    \n",
    "    # 価格情報の取得\n",
    "    tune_close_price = df.loc[date, 'close']\n",
    "    tune_next_close_price = df.loc[next_date, 'close']\n",
    "    \n",
    "    # ポジションの決定\n",
    "    if tune_prediction == 1 and tune_confidence >= tune_min_confidence:\n",
    "        tune_position = 1  # ロング\n",
    "        tune_buy_signals.append((next_date, tune_next_close_price))\n",
    "    elif tune_prediction == 0 and tune_confidence <= (1 - tune_min_confidence):\n",
    "        tune_position = -1  # ショート\n",
    "        tune_sell_signals.append((next_date, tune_next_close_price))\n",
    "    else:\n",
    "        tune_position = 0  # 中立\n",
    "\n",
    "    # リターンの計算（取引手数料とスリッページを考慮）\n",
    "    tune_ret = ((tune_next_close_price - tune_close_price) / tune_close_price * tune_position * tune_leverage)\n",
    "    if tune_position != 0:  # ポジションがある場合のみ取引手数料とスリッページを考慮\n",
    "        tune_ret -= (tune_fee_rate + tune_slippage) * tune_leverage\n",
    "\n",
    "    # リスク管理に基づくポジションサイズ\n",
    "    tune_position_size = (tune_capital * tune_risk_factor) / max(df['ATR'][date], 1e-6)  # ATRを使ったリスク管理\n",
    "\n",
    "    # ストップロスと利益確定の適用\n",
    "    if (tune_next_close_price - tune_close_price) / tune_close_price < -tune_stop_loss_rate:\n",
    "        tune_position = 0  # ストップロスによるポジション終了\n",
    "    elif (tune_next_close_price - tune_close_price) / tune_close_price > tune_take_profit_rate:\n",
    "        tune_position = 0  # 利益確定によるポジション終了\n",
    "\n",
    "    # 資本の更新\n",
    "    tune_capital += tune_position_size * tune_ret\n",
    "    tune_capital_history.append(tune_capital)\n",
    "    tune_positions.append(tune_position)\n",
    "\n",
    "# バックテスト結果のデータフレーム作成\n",
    "tune_backtest_results = pd.DataFrame(index=tune_test_dates[:-1])\n",
    "tune_backtest_results['tune_capital'] = tune_capital_history\n",
    "tune_backtest_results['tune_position'] = tune_positions\n",
    "\n",
    "# リターンの計算\n",
    "tune_backtest_results['tune_return'] = tune_backtest_results['tune_capital'].pct_change().fillna(0)\n",
    "\n",
    "# 最大ドローダウンの計算\n",
    "tune_roll_max = tune_backtest_results['tune_capital'].cummax()\n",
    "tune_daily_drawdown = tune_backtest_results['tune_capital'] / tune_roll_max - 1.0\n",
    "tune_max_drawdown = tune_daily_drawdown.min()\n",
    "print('Max Drawdown:', tune_max_drawdown)\n",
    "\n",
    "# 平均ドローダウンの計算\n",
    "tune_avg_drawdown = tune_daily_drawdown.mean()\n",
    "print('Average Drawdown:', tune_avg_drawdown)\n",
    "\n",
    "# 年間リターンの計算\n",
    "tune_annual_return = (tune_backtest_results['tune_capital'].iloc[-1] / initial_tune_capital) ** (365.25 / len(tune_backtest_results)) - 1\n",
    "print('Annual Return:', tune_annual_return)\n",
    "\n",
    "# シャープレシオの計算（リスクフリーレートは0と仮定）\n",
    "tune_sharpe_ratio = (tune_backtest_results['tune_return'].mean() / tune_backtest_results['tune_return'].std()) * np.sqrt(365 * 24)\n",
    "print('Final Capital:', tune_capital)\n",
    "print('Sharpe Ratio:', tune_sharpe_ratio)\n",
    "\n",
    "# 資産推移と売買のプロット\n",
    "plt.figure(figsize=(12, 12))\n",
    "\n",
    "# 1つ目のグラフ: 資産推移のプロット\n",
    "plt.subplot(2, 1, 1)\n",
    "plt.plot(tune_backtest_results.index, tune_backtest_results['tune_capital'], label='Capital Over Time')\n",
    "plt.title('Capital Over Time')\n",
    "plt.xlabel('Date')\n",
    "plt.ylabel('Capital')\n",
    "plt.legend()\n",
    "\n",
    "# 2つ目のグラフ: BTC価格と売買シグナルのプロット\n",
    "plt.subplot(2, 1, 2)\n",
    "plt.plot(df.loc[tune_test_dates[:-1], 'close'], label='BTC Price', color='blue')\n",
    "\n",
    "# 買いのシグナル（緑の丸）\n",
    "if tune_buy_signals:\n",
    "    buy_dates, buy_prices = zip(*tune_buy_signals)\n",
    "    plt.scatter(buy_dates, buy_prices, color='green', label='Buy Signal', marker='o')\n",
    "\n",
    "# 売りのシグナル（赤の丸）\n",
    "if tune_sell_signals:\n",
    "    sell_dates, sell_prices = zip(*tune_sell_signals)\n",
    "    plt.scatter(sell_dates, sell_prices, color='red', label='Sell Signal', marker='o')\n",
    "\n",
    "plt.title('BTC Price with Buy/Sell Signals')\n",
    "plt.xlabel('Date')\n",
    "plt.ylabel('BTC Price')\n",
    "plt.legend()\n",
    "\n",
    "plt.tight_layout()\n",
    "plt.show()\n"
   ]
  },
  {
   "cell_type": "code",
   "execution_count": null,
   "id": "8fe7db5d-4d41-4771-90f3-fa21f226ea6b",
   "metadata": {},
   "outputs": [],
   "source": [
    "# リターン分布のプロット\n",
    "plt.figure(figsize=(12,6))\n",
    "sns.histplot(backtest_results['Return'], bins=50, kde=True)\n",
    "plt.title('Returns Distribution (Optimized Model)')\n",
    "plt.show()"
   ]
  },
  {
   "cell_type": "code",
   "execution_count": null,
   "id": "0d535a87-8588-4b9f-a84a-dc90a94e282f",
   "metadata": {},
   "outputs": [],
   "source": [
    "backtest_results['Return']"
   ]
  },
  {
   "cell_type": "code",
   "execution_count": null,
   "id": "5a37a8e9-f39a-439b-8484-3813be82c854",
   "metadata": {},
   "outputs": [],
   "source": [
    "# モデルの保存\n",
    "gbm_optimized.save_model('lightgbm_btc_model_optimized.txt')"
   ]
  },
  {
   "cell_type": "code",
   "execution_count": null,
   "id": "3f30d8da-d6c3-4660-b60b-25c9b3c798f8",
   "metadata": {},
   "outputs": [],
   "source": [
    "# 特徴量の重要度をプロット\n",
    "lgb.plot_importance(gbm_optimized, max_num_features=1000)\n",
    "plt.show()"
   ]
  },
  {
   "cell_type": "code",
   "execution_count": null,
   "id": "c584fa75-98c0-4f35-af50-4e9e76a215a6",
   "metadata": {},
   "outputs": [],
   "source": [
    "# 保存するデータ\n",
    "data = {'時間足':[timeframe], 'レバレッジ':[leverage], '特徴量' : [features], 'テスト開始時期' : [split_date], '精度' : [accuracy], \n",
    "        '最終資産' : [capital], 'シャープレシオ' : [sharpe_ratio], 'チューン後精度' : [tune_accuracy], \n",
    "        'チューン後最終資産' : [tune_capital], 'チューン後シャープレシオ' : [tune_sharpe_ratio]}\n",
    "\n",
    "df_result = pd.DataFrame(data)\n",
    "\n",
    "# 'result.csv'が既に存在するか確認\n",
    "file_exists = os.path.isfile('result.csv')\n",
    "\n",
    "# CSVファイルに追記、ファイルが既に存在する場合はヘッダーを追加しない\n",
    "df_result.to_csv('result.csv', mode='a', header=not file_exists, index=False)"
   ]
  },
  {
   "cell_type": "code",
   "execution_count": null,
   "id": "baca8f3c-daf9-4fc9-8656-4784b25045ed",
   "metadata": {},
   "outputs": [],
   "source": [
    "print('Final capital:', capital)\n",
    "print('Final tune_capital:', tune_capital)"
   ]
  },
  {
   "cell_type": "code",
   "execution_count": null,
   "id": "dbc93d89-432f-4bf9-a703-8e2a76e09ff9",
   "metadata": {},
   "outputs": [],
   "source": []
  }
 ],
 "metadata": {
  "kernelspec": {
   "display_name": "Python 3 (ipykernel)",
   "language": "python",
   "name": "python3"
  },
  "language_info": {
   "codemirror_mode": {
    "name": "ipython",
    "version": 3
   },
   "file_extension": ".py",
   "mimetype": "text/x-python",
   "name": "python",
   "nbconvert_exporter": "python",
   "pygments_lexer": "ipython3",
   "version": "3.12.5"
  }
 },
 "nbformat": 4,
 "nbformat_minor": 5
}
