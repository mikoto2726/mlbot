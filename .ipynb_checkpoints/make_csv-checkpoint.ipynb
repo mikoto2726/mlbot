{
 "cells": [
  {
   "cell_type": "code",
   "execution_count": 5,
   "id": "2425b962-0893-45a2-b42c-d39bbfe12231",
   "metadata": {
    "execution": {
     "iopub.execute_input": "2024-11-27T22:55:45.077050Z",
     "iopub.status.busy": "2024-11-27T22:55:45.076771Z",
     "iopub.status.idle": "2024-11-27T22:55:45.079927Z",
     "shell.execute_reply": "2024-11-27T22:55:45.079396Z",
     "shell.execute_reply.started": "2024-11-27T22:55:45.077024Z"
    }
   },
   "outputs": [],
   "source": [
    "import ccxt\n",
    "import pandas as pd\n",
    "import time "
   ]
  },
  {
   "cell_type": "code",
   "execution_count": 6,
   "id": "7a7bc0fd-4759-4ec9-b171-ce46ed702ceb",
   "metadata": {
    "execution": {
     "iopub.execute_input": "2024-11-27T22:55:48.917707Z",
     "iopub.status.busy": "2024-11-27T22:55:48.917428Z",
     "iopub.status.idle": "2024-11-27T22:56:52.214765Z",
     "shell.execute_reply": "2024-11-27T22:56:52.214352Z",
     "shell.execute_reply.started": "2024-11-27T22:55:48.917680Z"
    }
   },
   "outputs": [
    {
     "name": "stdout",
     "output_type": "stream",
     "text": [
      "Data fetching and saving completed.\n"
     ]
    }
   ],
   "source": [
    "# Binanceのインスタンスを作成（レートリミットを有効化）\n",
    "exchange = ccxt.binance({\n",
    "    'enableRateLimit': True,\n",
    "})\n",
    "\n",
    "# BTC/USDTのデータを取得\n",
    "symbol = 'BTC/USDT'\n",
    "timeframe = '5m'  # 15分足のデータ\n",
    "since = exchange.parse8601('2020-01-01T00:00:00Z')  # データの開始日\n",
    "\n",
    "# データを取得する関数（例外処理と進行状況の追加）\n",
    "def fetch_all_ohlcv(symbol, timeframe, since):\n",
    "    all_ohlcv = []\n",
    "    now = exchange.milliseconds()\n",
    "    while since < now:\n",
    "        try:\n",
    "            ohlcv = exchange.fetch_ohlcv(symbol, timeframe, since, limit=1000)\n",
    "            if not ohlcv:\n",
    "                break\n",
    "            since = ohlcv[-1][0] + 1  # タイムスタンプを更新\n",
    "            all_ohlcv.extend(ohlcv)\n",
    "        except Exception as e:\n",
    "            print(f'An error occurred: {e}')\n",
    "            # リトライのために一時停止\n",
    "            time.sleep(5)\n",
    "            continue\n",
    "    return all_ohlcv\n",
    "\n",
    "# データを取得\n",
    "ohlcv = fetch_all_ohlcv(symbol, timeframe, since)\n",
    "data = pd.DataFrame(ohlcv, columns=['timestamp', 'open', 'high', 'low', 'close', 'volume'])\n",
    "\n",
    "# タイムスタンプを変換\n",
    "data['timestamp'] = pd.to_datetime(data['timestamp'], unit='ms')\n",
    "\n",
    "# CSVファイルとして保存\n",
    "data.to_csv('btc_usdt_5m_2018_to_now.csv', index=False)\n",
    "\n",
    "print('Data fetching and saving completed.')"
   ]
  },
  {
   "cell_type": "code",
   "execution_count": 10,
   "id": "ea922af4-d7d5-4102-b0cd-e1a10fbc5a3b",
   "metadata": {
    "execution": {
     "iopub.execute_input": "2024-11-27T23:00:06.196221Z",
     "iopub.status.busy": "2024-11-27T23:00:06.196018Z",
     "iopub.status.idle": "2024-11-27T23:00:06.545052Z",
     "shell.execute_reply": "2024-11-27T23:00:06.544473Z",
     "shell.execute_reply.started": "2024-11-27T23:00:06.196205Z"
    }
   },
   "outputs": [],
   "source": [
    "# データの読み込みと文字列として保存されている日時情報を日時型のデータに変換\n",
    "df = pd.read_csv('btc_usdt_5m_2018_to_now.csv')\n",
    "df['timestamp'] = pd.to_datetime(df['timestamp'])"
   ]
  },
  {
   "cell_type": "code",
   "execution_count": 11,
   "id": "14e5ca74-633c-4081-aa99-cf8a7f5d9ba5",
   "metadata": {
    "execution": {
     "iopub.execute_input": "2024-11-27T23:00:07.741720Z",
     "iopub.status.busy": "2024-11-27T23:00:07.741384Z",
     "iopub.status.idle": "2024-11-27T23:00:07.751556Z",
     "shell.execute_reply": "2024-11-27T23:00:07.751237Z",
     "shell.execute_reply.started": "2024-11-27T23:00:07.741688Z"
    }
   },
   "outputs": [
    {
     "data": {
      "text/html": [
       "<div>\n",
       "<style scoped>\n",
       "    .dataframe tbody tr th:only-of-type {\n",
       "        vertical-align: middle;\n",
       "    }\n",
       "\n",
       "    .dataframe tbody tr th {\n",
       "        vertical-align: top;\n",
       "    }\n",
       "\n",
       "    .dataframe thead th {\n",
       "        text-align: right;\n",
       "    }\n",
       "</style>\n",
       "<table border=\"1\" class=\"dataframe\">\n",
       "  <thead>\n",
       "    <tr style=\"text-align: right;\">\n",
       "      <th></th>\n",
       "      <th>timestamp</th>\n",
       "      <th>open</th>\n",
       "      <th>high</th>\n",
       "      <th>low</th>\n",
       "      <th>close</th>\n",
       "      <th>volume</th>\n",
       "    </tr>\n",
       "  </thead>\n",
       "  <tbody>\n",
       "    <tr>\n",
       "      <th>0</th>\n",
       "      <td>2020-01-01 00:00:00</td>\n",
       "      <td>7195.24</td>\n",
       "      <td>7196.25</td>\n",
       "      <td>7178.64</td>\n",
       "      <td>7179.78</td>\n",
       "      <td>95.509133</td>\n",
       "    </tr>\n",
       "    <tr>\n",
       "      <th>1</th>\n",
       "      <td>2020-01-01 00:05:00</td>\n",
       "      <td>7179.76</td>\n",
       "      <td>7191.77</td>\n",
       "      <td>7178.20</td>\n",
       "      <td>7191.07</td>\n",
       "      <td>59.365225</td>\n",
       "    </tr>\n",
       "    <tr>\n",
       "      <th>2</th>\n",
       "      <td>2020-01-01 00:10:00</td>\n",
       "      <td>7193.15</td>\n",
       "      <td>7193.53</td>\n",
       "      <td>7180.24</td>\n",
       "      <td>7180.97</td>\n",
       "      <td>48.068510</td>\n",
       "    </tr>\n",
       "    <tr>\n",
       "      <th>3</th>\n",
       "      <td>2020-01-01 00:15:00</td>\n",
       "      <td>7180.97</td>\n",
       "      <td>7186.40</td>\n",
       "      <td>7177.35</td>\n",
       "      <td>7178.29</td>\n",
       "      <td>32.192929</td>\n",
       "    </tr>\n",
       "    <tr>\n",
       "      <th>4</th>\n",
       "      <td>2020-01-01 00:20:00</td>\n",
       "      <td>7177.71</td>\n",
       "      <td>7182.46</td>\n",
       "      <td>7175.47</td>\n",
       "      <td>7176.96</td>\n",
       "      <td>49.027397</td>\n",
       "    </tr>\n",
       "  </tbody>\n",
       "</table>\n",
       "</div>"
      ],
      "text/plain": [
       "            timestamp     open     high      low    close     volume\n",
       "0 2020-01-01 00:00:00  7195.24  7196.25  7178.64  7179.78  95.509133\n",
       "1 2020-01-01 00:05:00  7179.76  7191.77  7178.20  7191.07  59.365225\n",
       "2 2020-01-01 00:10:00  7193.15  7193.53  7180.24  7180.97  48.068510\n",
       "3 2020-01-01 00:15:00  7180.97  7186.40  7177.35  7178.29  32.192929\n",
       "4 2020-01-01 00:20:00  7177.71  7182.46  7175.47  7176.96  49.027397"
      ]
     },
     "metadata": {},
     "output_type": "display_data"
    }
   ],
   "source": [
    "display(df.head())"
   ]
  },
  {
   "cell_type": "code",
   "execution_count": 12,
   "id": "7f6ed6e9-3add-45c7-9cae-42806242bc36",
   "metadata": {
    "execution": {
     "iopub.execute_input": "2024-11-27T23:00:09.337491Z",
     "iopub.status.busy": "2024-11-27T23:00:09.337250Z",
     "iopub.status.idle": "2024-11-27T23:00:09.343033Z",
     "shell.execute_reply": "2024-11-27T23:00:09.342603Z",
     "shell.execute_reply.started": "2024-11-27T23:00:09.337469Z"
    }
   },
   "outputs": [
    {
     "name": "stdout",
     "output_type": "stream",
     "text": [
      "            timestamp     open     high      low    close     volume\n",
      "0 2020-01-01 00:00:00  7195.24  7196.25  7178.64  7179.78  95.509133\n",
      "1 2020-01-01 00:05:00  7179.76  7191.77  7178.20  7191.07  59.365225\n",
      "2 2020-01-01 00:10:00  7193.15  7193.53  7180.24  7180.97  48.068510\n",
      "3 2020-01-01 00:15:00  7180.97  7186.40  7177.35  7178.29  32.192929\n",
      "4 2020-01-01 00:20:00  7177.71  7182.46  7175.47  7176.96  49.027397\n"
     ]
    }
   ],
   "source": [
    "print(df.head())"
   ]
  },
  {
   "cell_type": "code",
   "execution_count": null,
   "id": "b5b8fc13-e2c6-426f-b3b4-a9e4125ae59b",
   "metadata": {},
   "outputs": [],
   "source": []
  }
 ],
 "metadata": {
  "kernelspec": {
   "display_name": "Python 3 (ipykernel)",
   "language": "python",
   "name": "python3"
  },
  "language_info": {
   "codemirror_mode": {
    "name": "ipython",
    "version": 3
   },
   "file_extension": ".py",
   "mimetype": "text/x-python",
   "name": "python",
   "nbconvert_exporter": "python",
   "pygments_lexer": "ipython3",
   "version": "3.12.5"
  }
 },
 "nbformat": 4,
 "nbformat_minor": 5
}
