{
 "cells": [
  {
   "cell_type": "code",
   "execution_count": 13,
   "id": "2425b962-0893-45a2-b42c-d39bbfe12231",
   "metadata": {
    "execution": {
     "iopub.execute_input": "2024-12-19T05:00:53.768537Z",
     "iopub.status.busy": "2024-12-19T05:00:53.768064Z",
     "iopub.status.idle": "2024-12-19T05:00:53.771155Z",
     "shell.execute_reply": "2024-12-19T05:00:53.770651Z",
     "shell.execute_reply.started": "2024-12-19T05:00:53.768501Z"
    }
   },
   "outputs": [],
   "source": [
    "import ccxt\n",
    "import pandas as pd\n",
    "import time "
   ]
  },
  {
   "cell_type": "code",
   "execution_count": 14,
   "id": "7a7bc0fd-4759-4ec9-b171-ce46ed702ceb",
   "metadata": {
    "execution": {
     "iopub.execute_input": "2024-12-19T05:00:53.772268Z",
     "iopub.status.busy": "2024-12-19T05:00:53.772048Z",
     "iopub.status.idle": "2024-12-19T05:00:57.950745Z",
     "shell.execute_reply": "2024-12-19T05:00:57.949903Z",
     "shell.execute_reply.started": "2024-12-19T05:00:53.772249Z"
    }
   },
   "outputs": [
    {
     "name": "stdout",
     "output_type": "stream",
     "text": [
      "Data fetching and saving completed.\n"
     ]
    }
   ],
   "source": [
    "# Binanceのインスタンスを作成（レートリミットを有効化）\n",
    "exchange = ccxt.binance({\n",
    "    'enableRateLimit': True,\n",
    "})\n",
    "\n",
    "# BTC/USDTのデータを取得\n",
    "symbol = 'BTC/USDT'\n",
    "timeframe = '1h'  # 15分足のデータ\n",
    "since = exchange.parse8601('2020-01-01T00:00:00Z')  # データの開始日\n",
    "\n",
    "# データを取得する関数（例外処理と進行状況の追加）\n",
    "def fetch_all_ohlcv(symbol, timeframe, since):\n",
    "    all_ohlcv = []\n",
    "    now = exchange.milliseconds()\n",
    "    while since < now:\n",
    "        try:\n",
    "            ohlcv = exchange.fetch_ohlcv(symbol, timeframe, since, limit=1000)\n",
    "            if not ohlcv:\n",
    "                break\n",
    "            since = ohlcv[-1][0] + 1  # タイムスタンプを更新\n",
    "            all_ohlcv.extend(ohlcv)\n",
    "        except Exception as e:\n",
    "            print(f'An error occurred: {e}')\n",
    "            # リトライのために一時停止\n",
    "            time.sleep(5)\n",
    "            continue\n",
    "    return all_ohlcv\n",
    "\n",
    "# データを取得\n",
    "ohlcv = fetch_all_ohlcv(symbol, timeframe, since)\n",
    "data = pd.DataFrame(ohlcv, columns=['timestamp', 'open', 'high', 'low', 'close', 'volume'])\n",
    "\n",
    "# タイムスタンプを変換\n",
    "data['timestamp'] = pd.to_datetime(data['timestamp'], unit='ms')\n",
    "\n",
    "# CSVファイルとして保存\n",
    "data.to_csv('btc_usdt_1h_2018_to_now.csv', index=False)\n",
    "\n",
    "print('Data fetching and saving completed.')"
   ]
  },
  {
   "cell_type": "code",
   "execution_count": 15,
   "id": "ea922af4-d7d5-4102-b0cd-e1a10fbc5a3b",
   "metadata": {
    "execution": {
     "iopub.execute_input": "2024-12-19T05:00:57.951957Z",
     "iopub.status.busy": "2024-12-19T05:00:57.951720Z",
     "iopub.status.idle": "2024-12-19T05:00:57.997228Z",
     "shell.execute_reply": "2024-12-19T05:00:57.996582Z",
     "shell.execute_reply.started": "2024-12-19T05:00:57.951928Z"
    }
   },
   "outputs": [],
   "source": [
    "# データの読み込みと文字列として保存されている日時情報を日時型のデータに変換\n",
    "df = pd.read_csv('btc_usdt_1h_2018_to_now.csv')\n",
    "df['timestamp'] = pd.to_datetime(df['timestamp'])"
   ]
  },
  {
   "cell_type": "code",
   "execution_count": 16,
   "id": "14e5ca74-633c-4081-aa99-cf8a7f5d9ba5",
   "metadata": {
    "execution": {
     "iopub.execute_input": "2024-12-19T05:00:57.998425Z",
     "iopub.status.busy": "2024-12-19T05:00:57.998249Z",
     "iopub.status.idle": "2024-12-19T05:00:58.013256Z",
     "shell.execute_reply": "2024-12-19T05:00:58.012423Z",
     "shell.execute_reply.started": "2024-12-19T05:00:57.998405Z"
    }
   },
   "outputs": [
    {
     "data": {
      "text/html": [
       "<div>\n",
       "<style scoped>\n",
       "    .dataframe tbody tr th:only-of-type {\n",
       "        vertical-align: middle;\n",
       "    }\n",
       "\n",
       "    .dataframe tbody tr th {\n",
       "        vertical-align: top;\n",
       "    }\n",
       "\n",
       "    .dataframe thead th {\n",
       "        text-align: right;\n",
       "    }\n",
       "</style>\n",
       "<table border=\"1\" class=\"dataframe\">\n",
       "  <thead>\n",
       "    <tr style=\"text-align: right;\">\n",
       "      <th></th>\n",
       "      <th>timestamp</th>\n",
       "      <th>open</th>\n",
       "      <th>high</th>\n",
       "      <th>low</th>\n",
       "      <th>close</th>\n",
       "      <th>volume</th>\n",
       "    </tr>\n",
       "  </thead>\n",
       "  <tbody>\n",
       "    <tr>\n",
       "      <th>0</th>\n",
       "      <td>2020-01-01 00:00:00</td>\n",
       "      <td>7195.24</td>\n",
       "      <td>7196.25</td>\n",
       "      <td>7175.46</td>\n",
       "      <td>7177.02</td>\n",
       "      <td>511.814901</td>\n",
       "    </tr>\n",
       "    <tr>\n",
       "      <th>1</th>\n",
       "      <td>2020-01-01 01:00:00</td>\n",
       "      <td>7176.47</td>\n",
       "      <td>7230.00</td>\n",
       "      <td>7175.71</td>\n",
       "      <td>7216.27</td>\n",
       "      <td>883.052603</td>\n",
       "    </tr>\n",
       "    <tr>\n",
       "      <th>2</th>\n",
       "      <td>2020-01-01 02:00:00</td>\n",
       "      <td>7215.52</td>\n",
       "      <td>7244.87</td>\n",
       "      <td>7211.41</td>\n",
       "      <td>7242.85</td>\n",
       "      <td>655.156809</td>\n",
       "    </tr>\n",
       "    <tr>\n",
       "      <th>3</th>\n",
       "      <td>2020-01-01 03:00:00</td>\n",
       "      <td>7242.66</td>\n",
       "      <td>7245.00</td>\n",
       "      <td>7220.00</td>\n",
       "      <td>7225.01</td>\n",
       "      <td>783.724867</td>\n",
       "    </tr>\n",
       "    <tr>\n",
       "      <th>4</th>\n",
       "      <td>2020-01-01 04:00:00</td>\n",
       "      <td>7225.00</td>\n",
       "      <td>7230.00</td>\n",
       "      <td>7215.03</td>\n",
       "      <td>7217.27</td>\n",
       "      <td>467.812578</td>\n",
       "    </tr>\n",
       "  </tbody>\n",
       "</table>\n",
       "</div>"
      ],
      "text/plain": [
       "            timestamp     open     high      low    close      volume\n",
       "0 2020-01-01 00:00:00  7195.24  7196.25  7175.46  7177.02  511.814901\n",
       "1 2020-01-01 01:00:00  7176.47  7230.00  7175.71  7216.27  883.052603\n",
       "2 2020-01-01 02:00:00  7215.52  7244.87  7211.41  7242.85  655.156809\n",
       "3 2020-01-01 03:00:00  7242.66  7245.00  7220.00  7225.01  783.724867\n",
       "4 2020-01-01 04:00:00  7225.00  7230.00  7215.03  7217.27  467.812578"
      ]
     },
     "metadata": {},
     "output_type": "display_data"
    },
    {
     "data": {
      "text/html": [
       "<div>\n",
       "<style scoped>\n",
       "    .dataframe tbody tr th:only-of-type {\n",
       "        vertical-align: middle;\n",
       "    }\n",
       "\n",
       "    .dataframe tbody tr th {\n",
       "        vertical-align: top;\n",
       "    }\n",
       "\n",
       "    .dataframe thead th {\n",
       "        text-align: right;\n",
       "    }\n",
       "</style>\n",
       "<table border=\"1\" class=\"dataframe\">\n",
       "  <thead>\n",
       "    <tr style=\"text-align: right;\">\n",
       "      <th></th>\n",
       "      <th>timestamp</th>\n",
       "      <th>open</th>\n",
       "      <th>high</th>\n",
       "      <th>low</th>\n",
       "      <th>close</th>\n",
       "      <th>volume</th>\n",
       "    </tr>\n",
       "  </thead>\n",
       "  <tbody>\n",
       "    <tr>\n",
       "      <th>43505</th>\n",
       "      <td>2024-12-19 01:00:00</td>\n",
       "      <td>100831.17</td>\n",
       "      <td>100903.28</td>\n",
       "      <td>99605.98</td>\n",
       "      <td>99768.97</td>\n",
       "      <td>1922.58004</td>\n",
       "    </tr>\n",
       "    <tr>\n",
       "      <th>43506</th>\n",
       "      <td>2024-12-19 02:00:00</td>\n",
       "      <td>99768.97</td>\n",
       "      <td>100534.56</td>\n",
       "      <td>98802.00</td>\n",
       "      <td>100534.56</td>\n",
       "      <td>4808.23260</td>\n",
       "    </tr>\n",
       "    <tr>\n",
       "      <th>43507</th>\n",
       "      <td>2024-12-19 03:00:00</td>\n",
       "      <td>100534.56</td>\n",
       "      <td>101310.25</td>\n",
       "      <td>100456.00</td>\n",
       "      <td>101193.15</td>\n",
       "      <td>2269.12938</td>\n",
       "    </tr>\n",
       "    <tr>\n",
       "      <th>43508</th>\n",
       "      <td>2024-12-19 04:00:00</td>\n",
       "      <td>101193.15</td>\n",
       "      <td>101228.31</td>\n",
       "      <td>100629.99</td>\n",
       "      <td>100671.62</td>\n",
       "      <td>834.97520</td>\n",
       "    </tr>\n",
       "    <tr>\n",
       "      <th>43509</th>\n",
       "      <td>2024-12-19 05:00:00</td>\n",
       "      <td>100671.62</td>\n",
       "      <td>100700.00</td>\n",
       "      <td>100671.62</td>\n",
       "      <td>100678.40</td>\n",
       "      <td>7.13506</td>\n",
       "    </tr>\n",
       "  </tbody>\n",
       "</table>\n",
       "</div>"
      ],
      "text/plain": [
       "                timestamp       open       high        low      close  \\\n",
       "43505 2024-12-19 01:00:00  100831.17  100903.28   99605.98   99768.97   \n",
       "43506 2024-12-19 02:00:00   99768.97  100534.56   98802.00  100534.56   \n",
       "43507 2024-12-19 03:00:00  100534.56  101310.25  100456.00  101193.15   \n",
       "43508 2024-12-19 04:00:00  101193.15  101228.31  100629.99  100671.62   \n",
       "43509 2024-12-19 05:00:00  100671.62  100700.00  100671.62  100678.40   \n",
       "\n",
       "           volume  \n",
       "43505  1922.58004  \n",
       "43506  4808.23260  \n",
       "43507  2269.12938  \n",
       "43508   834.97520  \n",
       "43509     7.13506  "
      ]
     },
     "metadata": {},
     "output_type": "display_data"
    }
   ],
   "source": [
    "display(df.head())\n",
    "display(df.tail())"
   ]
  },
  {
   "cell_type": "code",
   "execution_count": 17,
   "id": "7f6ed6e9-3add-45c7-9cae-42806242bc36",
   "metadata": {
    "execution": {
     "iopub.execute_input": "2024-12-19T05:00:58.014293Z",
     "iopub.status.busy": "2024-12-19T05:00:58.014060Z",
     "iopub.status.idle": "2024-12-19T05:00:58.020291Z",
     "shell.execute_reply": "2024-12-19T05:00:58.019711Z",
     "shell.execute_reply.started": "2024-12-19T05:00:58.014271Z"
    }
   },
   "outputs": [
    {
     "name": "stdout",
     "output_type": "stream",
     "text": [
      "            timestamp     open     high      low    close      volume\n",
      "0 2020-01-01 00:00:00  7195.24  7196.25  7175.46  7177.02  511.814901\n",
      "1 2020-01-01 01:00:00  7176.47  7230.00  7175.71  7216.27  883.052603\n",
      "2 2020-01-01 02:00:00  7215.52  7244.87  7211.41  7242.85  655.156809\n",
      "3 2020-01-01 03:00:00  7242.66  7245.00  7220.00  7225.01  783.724867\n",
      "4 2020-01-01 04:00:00  7225.00  7230.00  7215.03  7217.27  467.812578\n"
     ]
    }
   ],
   "source": [
    "print(df.head())"
   ]
  },
  {
   "cell_type": "code",
   "execution_count": 18,
   "id": "b5b8fc13-e2c6-426f-b3b4-a9e4125ae59b",
   "metadata": {
    "execution": {
     "iopub.execute_input": "2024-12-19T05:00:58.021194Z",
     "iopub.status.busy": "2024-12-19T05:00:58.021021Z",
     "iopub.status.idle": "2024-12-19T05:00:58.487870Z",
     "shell.execute_reply": "2024-12-19T05:00:58.487157Z",
     "shell.execute_reply.started": "2024-12-19T05:00:58.021173Z"
    }
   },
   "outputs": [
    {
     "name": "stdout",
     "output_type": "stream",
     "text": [
      "結合されたデータは merged_btc_ohlcv_etf.csv に保存されました。\n"
     ]
    }
   ],
   "source": [
    "import pandas as pd\n",
    "\n",
    "# ファイルパス\n",
    "etf_data_path = 'BTC_ETF.csv'  # ETFデータのファイル\n",
    "ohlcv_data_path = 'btc_usdt_1h_2018_to_now.csv'  # OHLCVデータのファイル\n",
    "output_path = 'merged_btc_ohlcv_etf.csv'  # 結合後のCSV出力先\n",
    "\n",
    "# CSVを読み込む\n",
    "etf_data = pd.read_csv(etf_data_path)\n",
    "ohlcv_data = pd.read_csv(ohlcv_data_path)\n",
    "\n",
    "# ETFデータの日付をdatetimeに変換\n",
    "etf_data['Date'] = pd.to_datetime(etf_data['Date'], errors='coerce')\n",
    "\n",
    "# OHLCVデータのタイムスタンプをdatetimeに変換\n",
    "ohlcv_data['timestamp'] = pd.to_datetime(ohlcv_data['timestamp'], errors='coerce')\n",
    "\n",
    "# OHLCVデータに日付列を追加\n",
    "ohlcv_data['date'] = ohlcv_data['timestamp'].dt.date\n",
    "\n",
    "# ETFデータの日付と一致させるために日付型に変換\n",
    "ohlcv_data['date'] = pd.to_datetime(ohlcv_data['date'])\n",
    "\n",
    "# 結合を実施（left joinでOHLCVデータを基準にする）\n",
    "merged_data = pd.merge(\n",
    "    ohlcv_data,\n",
    "    etf_data.rename(columns={'Date': 'date'}),  # 'Date'列を'ohlcv_data'の'date'列に合わせる\n",
    "    how='left',\n",
    "    on='date'\n",
    ")\n",
    "\n",
    "# カラムの順番を調整（元のOHLCVデータ列を先に）\n",
    "columns_to_keep = list(ohlcv_data.columns) + list(etf_data.columns[1:])  # ETFの時間列は含まない\n",
    "merged_data = merged_data[columns_to_keep]\n",
    "merged_data = merged_data.drop(columns=['date'], errors='ignore')\n",
    "\n",
    "# CSVに保存\n",
    "merged_data.to_csv(output_path, index=False)\n",
    "\n",
    "\n",
    "\n",
    "print(f\"結合されたデータは {output_path} に保存されました。\")"
   ]
  }
 ],
 "metadata": {
  "kernelspec": {
   "display_name": "Python 3 (ipykernel)",
   "language": "python",
   "name": "python3"
  },
  "language_info": {
   "codemirror_mode": {
    "name": "ipython",
    "version": 3
   },
   "file_extension": ".py",
   "mimetype": "text/x-python",
   "name": "python",
   "nbconvert_exporter": "python",
   "pygments_lexer": "ipython3",
   "version": "3.12.5"
  }
 },
 "nbformat": 4,
 "nbformat_minor": 5
}
