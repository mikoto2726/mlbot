{
 "cells": [
  {
   "cell_type": "code",
   "execution_count": 1,
   "id": "2425b962-0893-45a2-b42c-d39bbfe12231",
   "metadata": {
    "execution": {
     "iopub.execute_input": "2024-12-11T01:57:26.600808Z",
     "iopub.status.busy": "2024-12-11T01:57:26.600405Z",
     "iopub.status.idle": "2024-12-11T01:57:27.234379Z",
     "shell.execute_reply": "2024-12-11T01:57:27.233925Z",
     "shell.execute_reply.started": "2024-12-11T01:57:26.600787Z"
    }
   },
   "outputs": [],
   "source": [
    "import ccxt\n",
    "import pandas as pd\n",
    "import time "
   ]
  },
  {
   "cell_type": "code",
   "execution_count": 2,
   "id": "7a7bc0fd-4759-4ec9-b171-ce46ed702ceb",
   "metadata": {
    "execution": {
     "iopub.execute_input": "2024-12-11T01:57:27.235538Z",
     "iopub.status.busy": "2024-12-11T01:57:27.235267Z",
     "iopub.status.idle": "2024-12-11T01:57:30.232427Z",
     "shell.execute_reply": "2024-12-11T01:57:30.231961Z",
     "shell.execute_reply.started": "2024-12-11T01:57:27.235513Z"
    }
   },
   "outputs": [
    {
     "name": "stdout",
     "output_type": "stream",
     "text": [
      "Data fetching and saving completed.\n"
     ]
    }
   ],
   "source": [
    "# Binanceのインスタンスを作成（レートリミットを有効化）\n",
    "exchange = ccxt.binance({\n",
    "    'enableRateLimit': True,\n",
    "})\n",
    "\n",
    "# BTC/USDTのデータを取得\n",
    "symbol = 'BTC/USDT'\n",
    "timeframe = '1h'  # 15分足のデータ\n",
    "since = exchange.parse8601('2020-01-01T00:00:00Z')  # データの開始日\n",
    "\n",
    "# データを取得する関数（例外処理と進行状況の追加）\n",
    "def fetch_all_ohlcv(symbol, timeframe, since):\n",
    "    all_ohlcv = []\n",
    "    now = exchange.milliseconds()\n",
    "    while since < now:\n",
    "        try:\n",
    "            ohlcv = exchange.fetch_ohlcv(symbol, timeframe, since, limit=1000)\n",
    "            if not ohlcv:\n",
    "                break\n",
    "            since = ohlcv[-1][0] + 1  # タイムスタンプを更新\n",
    "            all_ohlcv.extend(ohlcv)\n",
    "        except Exception as e:\n",
    "            print(f'An error occurred: {e}')\n",
    "            # リトライのために一時停止\n",
    "            time.sleep(5)\n",
    "            continue\n",
    "    return all_ohlcv\n",
    "\n",
    "# データを取得\n",
    "ohlcv = fetch_all_ohlcv(symbol, timeframe, since)\n",
    "data = pd.DataFrame(ohlcv, columns=['timestamp', 'open', 'high', 'low', 'close', 'volume'])\n",
    "\n",
    "# タイムスタンプを変換\n",
    "data['timestamp'] = pd.to_datetime(data['timestamp'], unit='ms')\n",
    "\n",
    "# CSVファイルとして保存\n",
    "data.to_csv('btc_usdt_1h_2018_to_now.csv', index=False)\n",
    "\n",
    "print('Data fetching and saving completed.')"
   ]
  },
  {
   "cell_type": "code",
   "execution_count": 3,
   "id": "ea922af4-d7d5-4102-b0cd-e1a10fbc5a3b",
   "metadata": {
    "execution": {
     "iopub.execute_input": "2024-12-11T01:57:30.233268Z",
     "iopub.status.busy": "2024-12-11T01:57:30.233035Z",
     "iopub.status.idle": "2024-12-11T01:57:30.273338Z",
     "shell.execute_reply": "2024-12-11T01:57:30.272903Z",
     "shell.execute_reply.started": "2024-12-11T01:57:30.233245Z"
    }
   },
   "outputs": [],
   "source": [
    "# データの読み込みと文字列として保存されている日時情報を日時型のデータに変換\n",
    "df = pd.read_csv('btc_usdt_1h_2018_to_now.csv')\n",
    "df['timestamp'] = pd.to_datetime(df['timestamp'])"
   ]
  },
  {
   "cell_type": "code",
   "execution_count": 4,
   "id": "14e5ca74-633c-4081-aa99-cf8a7f5d9ba5",
   "metadata": {
    "execution": {
     "iopub.execute_input": "2024-12-11T01:57:30.274550Z",
     "iopub.status.busy": "2024-12-11T01:57:30.274341Z",
     "iopub.status.idle": "2024-12-11T01:57:30.290256Z",
     "shell.execute_reply": "2024-12-11T01:57:30.289865Z",
     "shell.execute_reply.started": "2024-12-11T01:57:30.274527Z"
    }
   },
   "outputs": [
    {
     "data": {
      "text/html": [
       "<div>\n",
       "<style scoped>\n",
       "    .dataframe tbody tr th:only-of-type {\n",
       "        vertical-align: middle;\n",
       "    }\n",
       "\n",
       "    .dataframe tbody tr th {\n",
       "        vertical-align: top;\n",
       "    }\n",
       "\n",
       "    .dataframe thead th {\n",
       "        text-align: right;\n",
       "    }\n",
       "</style>\n",
       "<table border=\"1\" class=\"dataframe\">\n",
       "  <thead>\n",
       "    <tr style=\"text-align: right;\">\n",
       "      <th></th>\n",
       "      <th>timestamp</th>\n",
       "      <th>open</th>\n",
       "      <th>high</th>\n",
       "      <th>low</th>\n",
       "      <th>close</th>\n",
       "      <th>volume</th>\n",
       "    </tr>\n",
       "  </thead>\n",
       "  <tbody>\n",
       "    <tr>\n",
       "      <th>0</th>\n",
       "      <td>2020-01-01 00:00:00</td>\n",
       "      <td>7195.24</td>\n",
       "      <td>7196.25</td>\n",
       "      <td>7175.46</td>\n",
       "      <td>7177.02</td>\n",
       "      <td>511.814901</td>\n",
       "    </tr>\n",
       "    <tr>\n",
       "      <th>1</th>\n",
       "      <td>2020-01-01 01:00:00</td>\n",
       "      <td>7176.47</td>\n",
       "      <td>7230.00</td>\n",
       "      <td>7175.71</td>\n",
       "      <td>7216.27</td>\n",
       "      <td>883.052603</td>\n",
       "    </tr>\n",
       "    <tr>\n",
       "      <th>2</th>\n",
       "      <td>2020-01-01 02:00:00</td>\n",
       "      <td>7215.52</td>\n",
       "      <td>7244.87</td>\n",
       "      <td>7211.41</td>\n",
       "      <td>7242.85</td>\n",
       "      <td>655.156809</td>\n",
       "    </tr>\n",
       "    <tr>\n",
       "      <th>3</th>\n",
       "      <td>2020-01-01 03:00:00</td>\n",
       "      <td>7242.66</td>\n",
       "      <td>7245.00</td>\n",
       "      <td>7220.00</td>\n",
       "      <td>7225.01</td>\n",
       "      <td>783.724867</td>\n",
       "    </tr>\n",
       "    <tr>\n",
       "      <th>4</th>\n",
       "      <td>2020-01-01 04:00:00</td>\n",
       "      <td>7225.00</td>\n",
       "      <td>7230.00</td>\n",
       "      <td>7215.03</td>\n",
       "      <td>7217.27</td>\n",
       "      <td>467.812578</td>\n",
       "    </tr>\n",
       "  </tbody>\n",
       "</table>\n",
       "</div>"
      ],
      "text/plain": [
       "            timestamp     open     high      low    close      volume\n",
       "0 2020-01-01 00:00:00  7195.24  7196.25  7175.46  7177.02  511.814901\n",
       "1 2020-01-01 01:00:00  7176.47  7230.00  7175.71  7216.27  883.052603\n",
       "2 2020-01-01 02:00:00  7215.52  7244.87  7211.41  7242.85  655.156809\n",
       "3 2020-01-01 03:00:00  7242.66  7245.00  7220.00  7225.01  783.724867\n",
       "4 2020-01-01 04:00:00  7225.00  7230.00  7215.03  7217.27  467.812578"
      ]
     },
     "metadata": {},
     "output_type": "display_data"
    },
    {
     "data": {
      "text/html": [
       "<div>\n",
       "<style scoped>\n",
       "    .dataframe tbody tr th:only-of-type {\n",
       "        vertical-align: middle;\n",
       "    }\n",
       "\n",
       "    .dataframe tbody tr th {\n",
       "        vertical-align: top;\n",
       "    }\n",
       "\n",
       "    .dataframe thead th {\n",
       "        text-align: right;\n",
       "    }\n",
       "</style>\n",
       "<table border=\"1\" class=\"dataframe\">\n",
       "  <thead>\n",
       "    <tr style=\"text-align: right;\">\n",
       "      <th></th>\n",
       "      <th>timestamp</th>\n",
       "      <th>open</th>\n",
       "      <th>high</th>\n",
       "      <th>low</th>\n",
       "      <th>close</th>\n",
       "      <th>volume</th>\n",
       "    </tr>\n",
       "  </thead>\n",
       "  <tbody>\n",
       "    <tr>\n",
       "      <th>43309</th>\n",
       "      <td>2024-12-10 21:00:00</td>\n",
       "      <td>96434.75</td>\n",
       "      <td>97200.70</td>\n",
       "      <td>96382.35</td>\n",
       "      <td>96858.00</td>\n",
       "      <td>2026.89962</td>\n",
       "    </tr>\n",
       "    <tr>\n",
       "      <th>43310</th>\n",
       "      <td>2024-12-10 22:00:00</td>\n",
       "      <td>96858.00</td>\n",
       "      <td>97099.49</td>\n",
       "      <td>96587.43</td>\n",
       "      <td>96849.44</td>\n",
       "      <td>1109.33596</td>\n",
       "    </tr>\n",
       "    <tr>\n",
       "      <th>43311</th>\n",
       "      <td>2024-12-10 23:00:00</td>\n",
       "      <td>96849.45</td>\n",
       "      <td>97128.62</td>\n",
       "      <td>96402.70</td>\n",
       "      <td>96593.00</td>\n",
       "      <td>1199.51886</td>\n",
       "    </tr>\n",
       "    <tr>\n",
       "      <th>43312</th>\n",
       "      <td>2024-12-11 00:00:00</td>\n",
       "      <td>96593.00</td>\n",
       "      <td>96842.42</td>\n",
       "      <td>95816.36</td>\n",
       "      <td>96412.61</td>\n",
       "      <td>1676.16419</td>\n",
       "    </tr>\n",
       "    <tr>\n",
       "      <th>43313</th>\n",
       "      <td>2024-12-11 01:00:00</td>\n",
       "      <td>96412.61</td>\n",
       "      <td>96635.79</td>\n",
       "      <td>95736.62</td>\n",
       "      <td>95739.13</td>\n",
       "      <td>1587.50823</td>\n",
       "    </tr>\n",
       "  </tbody>\n",
       "</table>\n",
       "</div>"
      ],
      "text/plain": [
       "                timestamp      open      high       low     close      volume\n",
       "43309 2024-12-10 21:00:00  96434.75  97200.70  96382.35  96858.00  2026.89962\n",
       "43310 2024-12-10 22:00:00  96858.00  97099.49  96587.43  96849.44  1109.33596\n",
       "43311 2024-12-10 23:00:00  96849.45  97128.62  96402.70  96593.00  1199.51886\n",
       "43312 2024-12-11 00:00:00  96593.00  96842.42  95816.36  96412.61  1676.16419\n",
       "43313 2024-12-11 01:00:00  96412.61  96635.79  95736.62  95739.13  1587.50823"
      ]
     },
     "metadata": {},
     "output_type": "display_data"
    }
   ],
   "source": [
    "display(df.head())\n",
    "display(df.tail())"
   ]
  },
  {
   "cell_type": "code",
   "execution_count": 5,
   "id": "7f6ed6e9-3add-45c7-9cae-42806242bc36",
   "metadata": {
    "execution": {
     "iopub.execute_input": "2024-12-11T01:57:30.291026Z",
     "iopub.status.busy": "2024-12-11T01:57:30.290842Z",
     "iopub.status.idle": "2024-12-11T01:57:30.296838Z",
     "shell.execute_reply": "2024-12-11T01:57:30.296353Z",
     "shell.execute_reply.started": "2024-12-11T01:57:30.291005Z"
    }
   },
   "outputs": [
    {
     "name": "stdout",
     "output_type": "stream",
     "text": [
      "            timestamp     open     high      low    close      volume\n",
      "0 2020-01-01 00:00:00  7195.24  7196.25  7175.46  7177.02  511.814901\n",
      "1 2020-01-01 01:00:00  7176.47  7230.00  7175.71  7216.27  883.052603\n",
      "2 2020-01-01 02:00:00  7215.52  7244.87  7211.41  7242.85  655.156809\n",
      "3 2020-01-01 03:00:00  7242.66  7245.00  7220.00  7225.01  783.724867\n",
      "4 2020-01-01 04:00:00  7225.00  7230.00  7215.03  7217.27  467.812578\n"
     ]
    }
   ],
   "source": [
    "print(df.head())"
   ]
  },
  {
   "cell_type": "code",
   "execution_count": null,
   "id": "b5b8fc13-e2c6-426f-b3b4-a9e4125ae59b",
   "metadata": {},
   "outputs": [],
   "source": []
  }
 ],
 "metadata": {
  "kernelspec": {
   "display_name": "Python 3 (ipykernel)",
   "language": "python",
   "name": "python3"
  },
  "language_info": {
   "codemirror_mode": {
    "name": "ipython",
    "version": 3
   },
   "file_extension": ".py",
   "mimetype": "text/x-python",
   "name": "python",
   "nbconvert_exporter": "python",
   "pygments_lexer": "ipython3",
   "version": "3.12.5"
  }
 },
 "nbformat": 4,
 "nbformat_minor": 5
}
