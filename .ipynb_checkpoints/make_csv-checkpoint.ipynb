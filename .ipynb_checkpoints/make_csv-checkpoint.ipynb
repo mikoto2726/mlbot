{
 "cells": [
  {
   "cell_type": "code",
   "execution_count": 16,
   "id": "2425b962-0893-45a2-b42c-d39bbfe12231",
   "metadata": {
    "execution": {
     "iopub.execute_input": "2024-12-06T07:22:28.808667Z",
     "iopub.status.busy": "2024-12-06T07:22:28.808406Z",
     "iopub.status.idle": "2024-12-06T07:22:28.811312Z",
     "shell.execute_reply": "2024-12-06T07:22:28.810869Z",
     "shell.execute_reply.started": "2024-12-06T07:22:28.808631Z"
    }
   },
   "outputs": [],
   "source": [
    "import ccxt\n",
    "import pandas as pd\n",
    "import time "
   ]
  },
  {
   "cell_type": "code",
   "execution_count": 17,
   "id": "7a7bc0fd-4759-4ec9-b171-ce46ed702ceb",
   "metadata": {
    "execution": {
     "iopub.execute_input": "2024-12-06T07:22:28.812299Z",
     "iopub.status.busy": "2024-12-06T07:22:28.812134Z",
     "iopub.status.idle": "2024-12-06T07:22:32.207722Z",
     "shell.execute_reply": "2024-12-06T07:22:32.207309Z",
     "shell.execute_reply.started": "2024-12-06T07:22:28.812280Z"
    }
   },
   "outputs": [
    {
     "name": "stdout",
     "output_type": "stream",
     "text": [
      "Data fetching and saving completed.\n"
     ]
    }
   ],
   "source": [
    "# Binanceのインスタンスを作成（レートリミットを有効化）\n",
    "exchange = ccxt.binance({\n",
    "    'enableRateLimit': True,\n",
    "})\n",
    "\n",
    "# BTC/USDTのデータを取得\n",
    "symbol = 'BTC/USDT'\n",
    "timeframe = '1h'  # 15分足のデータ\n",
    "since = exchange.parse8601('2020-01-01T00:00:00Z')  # データの開始日\n",
    "\n",
    "# データを取得する関数（例外処理と進行状況の追加）\n",
    "def fetch_all_ohlcv(symbol, timeframe, since):\n",
    "    all_ohlcv = []\n",
    "    now = exchange.milliseconds()\n",
    "    while since < now:\n",
    "        try:\n",
    "            ohlcv = exchange.fetch_ohlcv(symbol, timeframe, since, limit=1000)\n",
    "            if not ohlcv:\n",
    "                break\n",
    "            since = ohlcv[-1][0] + 1  # タイムスタンプを更新\n",
    "            all_ohlcv.extend(ohlcv)\n",
    "        except Exception as e:\n",
    "            print(f'An error occurred: {e}')\n",
    "            # リトライのために一時停止\n",
    "            time.sleep(5)\n",
    "            continue\n",
    "    return all_ohlcv\n",
    "\n",
    "# データを取得\n",
    "ohlcv = fetch_all_ohlcv(symbol, timeframe, since)\n",
    "data = pd.DataFrame(ohlcv, columns=['timestamp', 'open', 'high', 'low', 'close', 'volume'])\n",
    "\n",
    "# タイムスタンプを変換\n",
    "data['timestamp'] = pd.to_datetime(data['timestamp'], unit='ms')\n",
    "\n",
    "# CSVファイルとして保存\n",
    "data.to_csv('btc_usdt_1h_2018_to_now.csv', index=False)\n",
    "\n",
    "print('Data fetching and saving completed.')"
   ]
  },
  {
   "cell_type": "code",
   "execution_count": 18,
   "id": "ea922af4-d7d5-4102-b0cd-e1a10fbc5a3b",
   "metadata": {
    "execution": {
     "iopub.execute_input": "2024-12-06T07:22:32.208349Z",
     "iopub.status.busy": "2024-12-06T07:22:32.208218Z",
     "iopub.status.idle": "2024-12-06T07:22:32.243650Z",
     "shell.execute_reply": "2024-12-06T07:22:32.243239Z",
     "shell.execute_reply.started": "2024-12-06T07:22:32.208333Z"
    }
   },
   "outputs": [],
   "source": [
    "# データの読み込みと文字列として保存されている日時情報を日時型のデータに変換\n",
    "df = pd.read_csv('btc_usdt_1h_2018_to_now.csv')\n",
    "df['timestamp'] = pd.to_datetime(df['timestamp'])"
   ]
  },
  {
   "cell_type": "code",
   "execution_count": 19,
   "id": "14e5ca74-633c-4081-aa99-cf8a7f5d9ba5",
   "metadata": {
    "execution": {
     "iopub.execute_input": "2024-12-06T07:22:32.244511Z",
     "iopub.status.busy": "2024-12-06T07:22:32.244368Z",
     "iopub.status.idle": "2024-12-06T07:22:32.254884Z",
     "shell.execute_reply": "2024-12-06T07:22:32.254524Z",
     "shell.execute_reply.started": "2024-12-06T07:22:32.244494Z"
    }
   },
   "outputs": [
    {
     "data": {
      "text/html": [
       "<div>\n",
       "<style scoped>\n",
       "    .dataframe tbody tr th:only-of-type {\n",
       "        vertical-align: middle;\n",
       "    }\n",
       "\n",
       "    .dataframe tbody tr th {\n",
       "        vertical-align: top;\n",
       "    }\n",
       "\n",
       "    .dataframe thead th {\n",
       "        text-align: right;\n",
       "    }\n",
       "</style>\n",
       "<table border=\"1\" class=\"dataframe\">\n",
       "  <thead>\n",
       "    <tr style=\"text-align: right;\">\n",
       "      <th></th>\n",
       "      <th>timestamp</th>\n",
       "      <th>open</th>\n",
       "      <th>high</th>\n",
       "      <th>low</th>\n",
       "      <th>close</th>\n",
       "      <th>volume</th>\n",
       "    </tr>\n",
       "  </thead>\n",
       "  <tbody>\n",
       "    <tr>\n",
       "      <th>0</th>\n",
       "      <td>2020-01-01 00:00:00</td>\n",
       "      <td>7195.24</td>\n",
       "      <td>7196.25</td>\n",
       "      <td>7175.46</td>\n",
       "      <td>7177.02</td>\n",
       "      <td>511.814901</td>\n",
       "    </tr>\n",
       "    <tr>\n",
       "      <th>1</th>\n",
       "      <td>2020-01-01 01:00:00</td>\n",
       "      <td>7176.47</td>\n",
       "      <td>7230.00</td>\n",
       "      <td>7175.71</td>\n",
       "      <td>7216.27</td>\n",
       "      <td>883.052603</td>\n",
       "    </tr>\n",
       "    <tr>\n",
       "      <th>2</th>\n",
       "      <td>2020-01-01 02:00:00</td>\n",
       "      <td>7215.52</td>\n",
       "      <td>7244.87</td>\n",
       "      <td>7211.41</td>\n",
       "      <td>7242.85</td>\n",
       "      <td>655.156809</td>\n",
       "    </tr>\n",
       "    <tr>\n",
       "      <th>3</th>\n",
       "      <td>2020-01-01 03:00:00</td>\n",
       "      <td>7242.66</td>\n",
       "      <td>7245.00</td>\n",
       "      <td>7220.00</td>\n",
       "      <td>7225.01</td>\n",
       "      <td>783.724867</td>\n",
       "    </tr>\n",
       "    <tr>\n",
       "      <th>4</th>\n",
       "      <td>2020-01-01 04:00:00</td>\n",
       "      <td>7225.00</td>\n",
       "      <td>7230.00</td>\n",
       "      <td>7215.03</td>\n",
       "      <td>7217.27</td>\n",
       "      <td>467.812578</td>\n",
       "    </tr>\n",
       "  </tbody>\n",
       "</table>\n",
       "</div>"
      ],
      "text/plain": [
       "            timestamp     open     high      low    close      volume\n",
       "0 2020-01-01 00:00:00  7195.24  7196.25  7175.46  7177.02  511.814901\n",
       "1 2020-01-01 01:00:00  7176.47  7230.00  7175.71  7216.27  883.052603\n",
       "2 2020-01-01 02:00:00  7215.52  7244.87  7211.41  7242.85  655.156809\n",
       "3 2020-01-01 03:00:00  7242.66  7245.00  7220.00  7225.01  783.724867\n",
       "4 2020-01-01 04:00:00  7225.00  7230.00  7215.03  7217.27  467.812578"
      ]
     },
     "metadata": {},
     "output_type": "display_data"
    },
    {
     "data": {
      "text/html": [
       "<div>\n",
       "<style scoped>\n",
       "    .dataframe tbody tr th:only-of-type {\n",
       "        vertical-align: middle;\n",
       "    }\n",
       "\n",
       "    .dataframe tbody tr th {\n",
       "        vertical-align: top;\n",
       "    }\n",
       "\n",
       "    .dataframe thead th {\n",
       "        text-align: right;\n",
       "    }\n",
       "</style>\n",
       "<table border=\"1\" class=\"dataframe\">\n",
       "  <thead>\n",
       "    <tr style=\"text-align: right;\">\n",
       "      <th></th>\n",
       "      <th>timestamp</th>\n",
       "      <th>open</th>\n",
       "      <th>high</th>\n",
       "      <th>low</th>\n",
       "      <th>close</th>\n",
       "      <th>volume</th>\n",
       "    </tr>\n",
       "  </thead>\n",
       "  <tbody>\n",
       "    <tr>\n",
       "      <th>43195</th>\n",
       "      <td>2024-12-06 03:00:00</td>\n",
       "      <td>97589.75</td>\n",
       "      <td>97752.14</td>\n",
       "      <td>97186.27</td>\n",
       "      <td>97735.29</td>\n",
       "      <td>1879.69228</td>\n",
       "    </tr>\n",
       "    <tr>\n",
       "      <th>43196</th>\n",
       "      <td>2024-12-06 04:00:00</td>\n",
       "      <td>97735.29</td>\n",
       "      <td>97972.85</td>\n",
       "      <td>97370.19</td>\n",
       "      <td>97877.50</td>\n",
       "      <td>917.85636</td>\n",
       "    </tr>\n",
       "    <tr>\n",
       "      <th>43197</th>\n",
       "      <td>2024-12-06 05:00:00</td>\n",
       "      <td>97877.51</td>\n",
       "      <td>98266.66</td>\n",
       "      <td>97633.26</td>\n",
       "      <td>97864.01</td>\n",
       "      <td>1012.80730</td>\n",
       "    </tr>\n",
       "    <tr>\n",
       "      <th>43198</th>\n",
       "      <td>2024-12-06 06:00:00</td>\n",
       "      <td>97864.02</td>\n",
       "      <td>98275.90</td>\n",
       "      <td>97755.09</td>\n",
       "      <td>98079.96</td>\n",
       "      <td>1155.86623</td>\n",
       "    </tr>\n",
       "    <tr>\n",
       "      <th>43199</th>\n",
       "      <td>2024-12-06 07:00:00</td>\n",
       "      <td>98079.97</td>\n",
       "      <td>98124.00</td>\n",
       "      <td>97801.00</td>\n",
       "      <td>97945.59</td>\n",
       "      <td>451.79660</td>\n",
       "    </tr>\n",
       "  </tbody>\n",
       "</table>\n",
       "</div>"
      ],
      "text/plain": [
       "                timestamp      open      high       low     close      volume\n",
       "43195 2024-12-06 03:00:00  97589.75  97752.14  97186.27  97735.29  1879.69228\n",
       "43196 2024-12-06 04:00:00  97735.29  97972.85  97370.19  97877.50   917.85636\n",
       "43197 2024-12-06 05:00:00  97877.51  98266.66  97633.26  97864.01  1012.80730\n",
       "43198 2024-12-06 06:00:00  97864.02  98275.90  97755.09  98079.96  1155.86623\n",
       "43199 2024-12-06 07:00:00  98079.97  98124.00  97801.00  97945.59   451.79660"
      ]
     },
     "metadata": {},
     "output_type": "display_data"
    }
   ],
   "source": [
    "display(df.head())\n",
    "display(df.tail())"
   ]
  },
  {
   "cell_type": "code",
   "execution_count": 20,
   "id": "7f6ed6e9-3add-45c7-9cae-42806242bc36",
   "metadata": {
    "execution": {
     "iopub.execute_input": "2024-12-06T07:22:32.255552Z",
     "iopub.status.busy": "2024-12-06T07:22:32.255393Z",
     "iopub.status.idle": "2024-12-06T07:22:32.259630Z",
     "shell.execute_reply": "2024-12-06T07:22:32.259323Z",
     "shell.execute_reply.started": "2024-12-06T07:22:32.255534Z"
    }
   },
   "outputs": [
    {
     "name": "stdout",
     "output_type": "stream",
     "text": [
      "            timestamp     open     high      low    close      volume\n",
      "0 2020-01-01 00:00:00  7195.24  7196.25  7175.46  7177.02  511.814901\n",
      "1 2020-01-01 01:00:00  7176.47  7230.00  7175.71  7216.27  883.052603\n",
      "2 2020-01-01 02:00:00  7215.52  7244.87  7211.41  7242.85  655.156809\n",
      "3 2020-01-01 03:00:00  7242.66  7245.00  7220.00  7225.01  783.724867\n",
      "4 2020-01-01 04:00:00  7225.00  7230.00  7215.03  7217.27  467.812578\n"
     ]
    }
   ],
   "source": [
    "print(df.head())"
   ]
  },
  {
   "cell_type": "code",
   "execution_count": null,
   "id": "b5b8fc13-e2c6-426f-b3b4-a9e4125ae59b",
   "metadata": {},
   "outputs": [],
   "source": []
  }
 ],
 "metadata": {
  "kernelspec": {
   "display_name": "Python 3 (ipykernel)",
   "language": "python",
   "name": "python3"
  },
  "language_info": {
   "codemirror_mode": {
    "name": "ipython",
    "version": 3
   },
   "file_extension": ".py",
   "mimetype": "text/x-python",
   "name": "python",
   "nbconvert_exporter": "python",
   "pygments_lexer": "ipython3",
   "version": "3.12.5"
  }
 },
 "nbformat": 4,
 "nbformat_minor": 5
}
