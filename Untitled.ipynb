{
 "cells": [
  {
   "cell_type": "code",
   "execution_count": 3,
   "id": "e0d5c216-821d-47cb-b1bb-3bdcf0531d61",
   "metadata": {
    "execution": {
     "iopub.execute_input": "2024-12-17T02:06:56.520113Z",
     "iopub.status.busy": "2024-12-17T02:06:56.518996Z",
     "iopub.status.idle": "2024-12-17T02:06:57.631316Z",
     "shell.execute_reply": "2024-12-17T02:06:57.629296Z",
     "shell.execute_reply.started": "2024-12-17T02:06:56.519997Z"
    }
   },
   "outputs": [
    {
     "name": "stdout",
     "output_type": "stream",
     "text": [
      "Loading CSV file...\n",
      "Converting timestamp to datetime format...\n",
      "Extracting relevant columns...\n",
      "Saving the processed data to CSV...\n",
      "Processed CSV saved to: processed_funding_oi.csv\n"
     ]
    }
   ],
   "source": [
    "import pandas as pd\n",
    "\n",
    "# ファイルのパス\n",
    "input_file_path = 'bybit_derivative_ticker_2020-01-01_BTCUSD.csv'\n",
    "output_file_path = 'processed_funding_oi.csv'\n",
    "\n",
    "# CSVファイルの読み込み\n",
    "print(\"Loading CSV file...\")\n",
    "data = pd.read_csv(input_file_path)\n",
    "\n",
    "# timestamp列を人間が読みやすい日時形式に変換 (マイクロ秒単位)\n",
    "print(\"Converting timestamp to datetime format...\")\n",
    "data['timestamp'] = pd.to_datetime(data['timestamp'], unit='us')  # Unix timestamp in microseconds\n",
    "\n",
    "# 必要な列を抽出\n",
    "print(\"Extracting relevant columns...\")\n",
    "processed_data = data[['timestamp', 'funding_rate', 'open_interest']]\n",
    "\n",
    "# 結果をCSVとして保存\n",
    "print(\"Saving the processed data to CSV...\")\n",
    "processed_data.to_csv(output_file_path, index=False)\n",
    "\n",
    "print(f\"Processed CSV saved to: {output_file_path}\")\n"
   ]
  },
  {
   "cell_type": "code",
   "execution_count": 4,
   "id": "ec9f880f-dab8-4bf8-af57-f3a638fd83e4",
   "metadata": {
    "execution": {
     "iopub.execute_input": "2024-12-17T02:12:31.686793Z",
     "iopub.status.busy": "2024-12-17T02:12:31.680944Z",
     "iopub.status.idle": "2024-12-17T02:12:31.768841Z",
     "shell.execute_reply": "2024-12-17T02:12:31.762447Z",
     "shell.execute_reply.started": "2024-12-17T02:12:31.686626Z"
    }
   },
   "outputs": [
    {
     "data": {
      "text/html": [
       "<div>\n",
       "<style scoped>\n",
       "    .dataframe tbody tr th:only-of-type {\n",
       "        vertical-align: middle;\n",
       "    }\n",
       "\n",
       "    .dataframe tbody tr th {\n",
       "        vertical-align: top;\n",
       "    }\n",
       "\n",
       "    .dataframe thead th {\n",
       "        text-align: right;\n",
       "    }\n",
       "</style>\n",
       "<table border=\"1\" class=\"dataframe\">\n",
       "  <thead>\n",
       "    <tr style=\"text-align: right;\">\n",
       "      <th></th>\n",
       "      <th>timestamp</th>\n",
       "      <th>funding_rate</th>\n",
       "      <th>open_interest</th>\n",
       "    </tr>\n",
       "  </thead>\n",
       "  <tbody>\n",
       "    <tr>\n",
       "      <th>0</th>\n",
       "      <td>2020-01-01 00:00:00.091288</td>\n",
       "      <td>0.0001</td>\n",
       "      <td>140348732</td>\n",
       "    </tr>\n",
       "    <tr>\n",
       "      <th>1</th>\n",
       "      <td>2020-01-01 00:00:00.991443</td>\n",
       "      <td>0.0001</td>\n",
       "      <td>140348732</td>\n",
       "    </tr>\n",
       "    <tr>\n",
       "      <th>2</th>\n",
       "      <td>2020-01-01 00:00:02.491265</td>\n",
       "      <td>0.0001</td>\n",
       "      <td>140348732</td>\n",
       "    </tr>\n",
       "    <tr>\n",
       "      <th>3</th>\n",
       "      <td>2020-01-01 00:00:02.891258</td>\n",
       "      <td>0.0001</td>\n",
       "      <td>140348732</td>\n",
       "    </tr>\n",
       "    <tr>\n",
       "      <th>4</th>\n",
       "      <td>2020-01-01 00:00:03.591195</td>\n",
       "      <td>0.0001</td>\n",
       "      <td>140348732</td>\n",
       "    </tr>\n",
       "    <tr>\n",
       "      <th>...</th>\n",
       "      <td>...</td>\n",
       "      <td>...</td>\n",
       "      <td>...</td>\n",
       "    </tr>\n",
       "    <tr>\n",
       "      <th>34086</th>\n",
       "      <td>2020-01-01 23:59:33.491096</td>\n",
       "      <td>0.0001</td>\n",
       "      <td>140250726</td>\n",
       "    </tr>\n",
       "    <tr>\n",
       "      <th>34087</th>\n",
       "      <td>2020-01-01 23:59:46.691081</td>\n",
       "      <td>0.0001</td>\n",
       "      <td>140250726</td>\n",
       "    </tr>\n",
       "    <tr>\n",
       "      <th>34088</th>\n",
       "      <td>2020-01-01 23:59:47.391099</td>\n",
       "      <td>0.0001</td>\n",
       "      <td>140250726</td>\n",
       "    </tr>\n",
       "    <tr>\n",
       "      <th>34089</th>\n",
       "      <td>2020-01-01 23:59:51.391119</td>\n",
       "      <td>0.0001</td>\n",
       "      <td>140250726</td>\n",
       "    </tr>\n",
       "    <tr>\n",
       "      <th>34090</th>\n",
       "      <td>2020-01-01 23:59:53.391061</td>\n",
       "      <td>0.0001</td>\n",
       "      <td>140250726</td>\n",
       "    </tr>\n",
       "  </tbody>\n",
       "</table>\n",
       "<p>34091 rows × 3 columns</p>\n",
       "</div>"
      ],
      "text/plain": [
       "                       timestamp  funding_rate  open_interest\n",
       "0     2020-01-01 00:00:00.091288        0.0001      140348732\n",
       "1     2020-01-01 00:00:00.991443        0.0001      140348732\n",
       "2     2020-01-01 00:00:02.491265        0.0001      140348732\n",
       "3     2020-01-01 00:00:02.891258        0.0001      140348732\n",
       "4     2020-01-01 00:00:03.591195        0.0001      140348732\n",
       "...                          ...           ...            ...\n",
       "34086 2020-01-01 23:59:33.491096        0.0001      140250726\n",
       "34087 2020-01-01 23:59:46.691081        0.0001      140250726\n",
       "34088 2020-01-01 23:59:47.391099        0.0001      140250726\n",
       "34089 2020-01-01 23:59:51.391119        0.0001      140250726\n",
       "34090 2020-01-01 23:59:53.391061        0.0001      140250726\n",
       "\n",
       "[34091 rows x 3 columns]"
      ]
     },
     "metadata": {},
     "output_type": "display_data"
    }
   ],
   "source": [
    "display(processed_data)"
   ]
  },
  {
   "cell_type": "code",
   "execution_count": 5,
   "id": "1afe1fb2-1dc1-4ff9-bac9-828ce7581de6",
   "metadata": {
    "execution": {
     "iopub.execute_input": "2024-12-17T02:23:34.537871Z",
     "iopub.status.busy": "2024-12-17T02:23:34.533640Z",
     "iopub.status.idle": "2024-12-17T02:23:34.685135Z",
     "shell.execute_reply": "2024-12-17T02:23:34.679106Z",
     "shell.execute_reply.started": "2024-12-17T02:23:34.537677Z"
    }
   },
   "outputs": [
    {
     "ename": "ModuleNotFoundError",
     "evalue": "No module named 'tardis_client'",
     "output_type": "error",
     "traceback": [
      "\u001b[0;31m---------------------------------------------------------------------------\u001b[0m",
      "\u001b[0;31mModuleNotFoundError\u001b[0m                       Traceback (most recent call last)",
      "Cell \u001b[0;32mIn[5], line 3\u001b[0m\n\u001b[1;32m      1\u001b[0m \u001b[38;5;66;03m# pip install tardis-client\u001b[39;00m\n\u001b[1;32m      2\u001b[0m \u001b[38;5;28;01mimport\u001b[39;00m \u001b[38;5;21;01masyncio\u001b[39;00m\n\u001b[0;32m----> 3\u001b[0m \u001b[38;5;28;01mfrom\u001b[39;00m \u001b[38;5;21;01mtardis_client\u001b[39;00m \u001b[38;5;28;01mimport\u001b[39;00m TardisClient, Channel\n\u001b[1;32m      4\u001b[0m tardis_client \u001b[38;5;241m=\u001b[39m TardisClient(api_key\u001b[38;5;241m=\u001b[39m\u001b[38;5;124m\"\u001b[39m\u001b[38;5;124mYOUR_API_KEY\u001b[39m\u001b[38;5;124m\"\u001b[39m)\n\u001b[1;32m      6\u001b[0m \u001b[38;5;28;01masync\u001b[39;00m \u001b[38;5;28;01mdef\u001b[39;00m \u001b[38;5;21mreplay\u001b[39m():\n\u001b[1;32m      7\u001b[0m   \u001b[38;5;66;03m# replay method returns Async Generator\u001b[39;00m\n",
      "\u001b[0;31mModuleNotFoundError\u001b[0m: No module named 'tardis_client'"
     ]
    }
   ],
   "source": [
    "# pip install tardis-client\n",
    "import asyncio\n",
    "from tardis_client import TardisClient, Channel\n",
    "tardis_client = TardisClient(api_key=\"YOUR_API_KEY\")\n",
    "\n",
    "async def replay():\n",
    "  # replay method returns Async Generator\n",
    "  messages = tardis_client.replay(\n",
    "    exchange=\"bybit\",\n",
    "    from_date=\"2020-01-01\",\n",
    "    to_date=\"2024-11-30\",\n",
    "    filters=[Channel(name=\"orderBook_200\", symbols=[\"BTCUSD\"])]\n",
    "  )\n",
    "\n",
    "  # messages as provided by Bybit real-time stream\n",
    "  async for local_timestamp, message in messages:\n",
    "    print(message)\n",
    "\n",
    "\n",
    "asyncio.run(replay())"
   ]
  },
  {
   "cell_type": "code",
   "execution_count": null,
   "id": "08cd3775-a7d6-4e39-ac92-4a104e4027d4",
   "metadata": {},
   "outputs": [],
   "source": []
  }
 ],
 "metadata": {
  "kernelspec": {
   "display_name": "Python 3 (ipykernel)",
   "language": "python",
   "name": "python3"
  },
  "language_info": {
   "codemirror_mode": {
    "name": "ipython",
    "version": 3
   },
   "file_extension": ".py",
   "mimetype": "text/x-python",
   "name": "python",
   "nbconvert_exporter": "python",
   "pygments_lexer": "ipython3",
   "version": "3.12.5"
  }
 },
 "nbformat": 4,
 "nbformat_minor": 5
}
