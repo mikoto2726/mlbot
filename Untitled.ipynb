{
 "cells": [
  {
   "cell_type": "code",
   "execution_count": 1,
   "id": "5fb3fec3-a672-46db-8dbb-eba359536c5e",
   "metadata": {
    "execution": {
     "iopub.execute_input": "2024-12-11T02:21:02.857261Z",
     "iopub.status.busy": "2024-12-11T02:21:02.856940Z",
     "iopub.status.idle": "2024-12-11T02:21:03.425594Z",
     "shell.execute_reply": "2024-12-11T02:21:03.425130Z",
     "shell.execute_reply.started": "2024-12-11T02:21:02.857235Z"
    }
   },
   "outputs": [
    {
     "name": "stdout",
     "output_type": "stream",
     "text": [
      "結合されたデータは merged_btc_ohlcv_etf.csv に保存されました。\n"
     ]
    }
   ],
   "source": [
    "import pandas as pd\n",
    "\n",
    "# ファイルパス\n",
    "etf_data_path = 'BTC_ETF.csv'  # ETFデータのファイル\n",
    "ohlcv_data_path = 'btc_usdt_1h_2018_to_now.csv'  # OHLCVデータのファイル\n",
    "output_path = 'merged_btc_ohlcv_etf.csv'  # 結合後のCSV出力先\n",
    "\n",
    "# CSVを読み込む\n",
    "etf_data = pd.read_csv(etf_data_path)\n",
    "ohlcv_data = pd.read_csv(ohlcv_data_path)\n",
    "\n",
    "# ETFデータの日付をdatetimeに変換\n",
    "etf_data['Date'] = pd.to_datetime(etf_data['Date'], errors='coerce')\n",
    "\n",
    "# OHLCVデータのタイムスタンプをdatetimeに変換\n",
    "ohlcv_data['timestamp'] = pd.to_datetime(ohlcv_data['timestamp'], errors='coerce')\n",
    "\n",
    "# OHLCVデータに日付列を追加\n",
    "ohlcv_data['date'] = ohlcv_data['timestamp'].dt.date\n",
    "\n",
    "# ETFデータの日付と一致させるために日付型に変換\n",
    "ohlcv_data['date'] = pd.to_datetime(ohlcv_data['date'])\n",
    "\n",
    "# 結合を実施（left joinでOHLCVデータを基準にする）\n",
    "merged_data = pd.merge(\n",
    "    ohlcv_data,\n",
    "    etf_data.rename(columns={'Date': 'date'}),  # 'Date'列を'ohlcv_data'の'date'列に合わせる\n",
    "    how='left',\n",
    "    on='date'\n",
    ")\n",
    "\n",
    "# カラムの順番を調整（元のOHLCVデータ列を先に）\n",
    "columns_to_keep = list(ohlcv_data.columns) + list(etf_data.columns[1:])  # ETFの時間列は含まない\n",
    "merged_data = merged_data[columns_to_keep]\n",
    "\n",
    "# CSVに保存\n",
    "merged_data.to_csv(output_path, index=False)\n",
    "\n",
    "print(f\"結合されたデータは {output_path} に保存されました。\")"
   ]
  },
  {
   "cell_type": "code",
   "execution_count": null,
   "id": "81510d1a-779e-4e2f-b66c-f2109b8e6107",
   "metadata": {},
   "outputs": [],
   "source": []
  }
 ],
 "metadata": {
  "kernelspec": {
   "display_name": "Python 3 (ipykernel)",
   "language": "python",
   "name": "python3"
  },
  "language_info": {
   "codemirror_mode": {
    "name": "ipython",
    "version": 3
   },
   "file_extension": ".py",
   "mimetype": "text/x-python",
   "name": "python",
   "nbconvert_exporter": "python",
   "pygments_lexer": "ipython3",
   "version": "3.12.5"
  }
 },
 "nbformat": 4,
 "nbformat_minor": 5
}
